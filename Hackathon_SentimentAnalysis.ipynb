{
  "nbformat": 4,
  "nbformat_minor": 0,
  "metadata": {
    "colab": {
      "name": "Hackathon_SentimentAnalysis.ipynb",
      "provenance": [],
      "collapsed_sections": [],
      "mount_file_id": "17Xztm3vhXljaBZ8boJOqjPuz1ChN9mNC",
      "authorship_tag": "ABX9TyMQT8rPhBwGN7erZa7Yveip",
      "include_colab_link": true
    },
    "kernelspec": {
      "name": "python3",
      "display_name": "Python 3"
    },
    "language_info": {
      "name": "python"
    }
  },
  "cells": [
    {
      "cell_type": "markdown",
      "metadata": {
        "id": "view-in-github",
        "colab_type": "text"
      },
      "source": [
        "<a href=\"https://colab.research.google.com/github/Ravi-shankar100/ZS-Hackathon/blob/main/Hackathon_SentimentAnalysis.ipynb\" target=\"_parent\"><img src=\"https://colab.research.google.com/assets/colab-badge.svg\" alt=\"Open In Colab\"/></a>"
      ]
    },
    {
      "cell_type": "code",
      "metadata": {
        "colab": {
          "base_uri": "https://localhost:8080/"
        },
        "id": "DbY0N8RZKeW3",
        "outputId": "d117d83a-c9a1-49bc-abf3-0528adfb4983"
      },
      "source": [
        "## All the necessary installations\n",
        "!pip install catboost                    #Categorical Boosting \n",
        "!pip install xgboost                     #Extra Gradient Boosting\n",
        "!pip install category_encoders           #Encoding for Categorical Variables"
      ],
      "execution_count": null,
      "outputs": [
        {
          "output_type": "stream",
          "text": [
            "Collecting catboost\n",
            "\u001b[?25l  Downloading https://files.pythonhosted.org/packages/5a/41/24e14322b9986cf72a8763e0a0a69cc256cf963cf9502c8f0044a62c1ae8/catboost-0.26-cp37-none-manylinux1_x86_64.whl (69.2MB)\n",
            "\u001b[K     |████████████████████████████████| 69.2MB 57kB/s \n",
            "\u001b[?25hRequirement already satisfied: graphviz in /usr/local/lib/python3.7/dist-packages (from catboost) (0.10.1)\n",
            "Requirement already satisfied: matplotlib in /usr/local/lib/python3.7/dist-packages (from catboost) (3.2.2)\n",
            "Requirement already satisfied: pandas>=0.24.0 in /usr/local/lib/python3.7/dist-packages (from catboost) (1.1.5)\n",
            "Requirement already satisfied: six in /usr/local/lib/python3.7/dist-packages (from catboost) (1.15.0)\n",
            "Requirement already satisfied: numpy>=1.16.0 in /usr/local/lib/python3.7/dist-packages (from catboost) (1.19.5)\n",
            "Requirement already satisfied: scipy in /usr/local/lib/python3.7/dist-packages (from catboost) (1.4.1)\n",
            "Requirement already satisfied: plotly in /usr/local/lib/python3.7/dist-packages (from catboost) (4.4.1)\n",
            "Requirement already satisfied: cycler>=0.10 in /usr/local/lib/python3.7/dist-packages (from matplotlib->catboost) (0.10.0)\n",
            "Requirement already satisfied: pyparsing!=2.0.4,!=2.1.2,!=2.1.6,>=2.0.1 in /usr/local/lib/python3.7/dist-packages (from matplotlib->catboost) (2.4.7)\n",
            "Requirement already satisfied: python-dateutil>=2.1 in /usr/local/lib/python3.7/dist-packages (from matplotlib->catboost) (2.8.1)\n",
            "Requirement already satisfied: kiwisolver>=1.0.1 in /usr/local/lib/python3.7/dist-packages (from matplotlib->catboost) (1.3.1)\n",
            "Requirement already satisfied: pytz>=2017.2 in /usr/local/lib/python3.7/dist-packages (from pandas>=0.24.0->catboost) (2018.9)\n",
            "Requirement already satisfied: retrying>=1.3.3 in /usr/local/lib/python3.7/dist-packages (from plotly->catboost) (1.3.3)\n",
            "Installing collected packages: catboost\n",
            "Successfully installed catboost-0.26\n",
            "Requirement already satisfied: xgboost in /usr/local/lib/python3.7/dist-packages (0.90)\n",
            "Requirement already satisfied: numpy in /usr/local/lib/python3.7/dist-packages (from xgboost) (1.19.5)\n",
            "Requirement already satisfied: scipy in /usr/local/lib/python3.7/dist-packages (from xgboost) (1.4.1)\n",
            "Collecting category_encoders\n",
            "\u001b[?25l  Downloading https://files.pythonhosted.org/packages/44/57/fcef41c248701ee62e8325026b90c432adea35555cbc870aff9cfba23727/category_encoders-2.2.2-py2.py3-none-any.whl (80kB)\n",
            "\u001b[K     |████████████████████████████████| 81kB 6.4MB/s \n",
            "\u001b[?25hRequirement already satisfied: statsmodels>=0.9.0 in /usr/local/lib/python3.7/dist-packages (from category_encoders) (0.10.2)\n",
            "Requirement already satisfied: numpy>=1.14.0 in /usr/local/lib/python3.7/dist-packages (from category_encoders) (1.19.5)\n",
            "Requirement already satisfied: patsy>=0.5.1 in /usr/local/lib/python3.7/dist-packages (from category_encoders) (0.5.1)\n",
            "Requirement already satisfied: scikit-learn>=0.20.0 in /usr/local/lib/python3.7/dist-packages (from category_encoders) (0.22.2.post1)\n",
            "Requirement already satisfied: scipy>=1.0.0 in /usr/local/lib/python3.7/dist-packages (from category_encoders) (1.4.1)\n",
            "Requirement already satisfied: pandas>=0.21.1 in /usr/local/lib/python3.7/dist-packages (from category_encoders) (1.1.5)\n",
            "Requirement already satisfied: six in /usr/local/lib/python3.7/dist-packages (from patsy>=0.5.1->category_encoders) (1.15.0)\n",
            "Requirement already satisfied: joblib>=0.11 in /usr/local/lib/python3.7/dist-packages (from scikit-learn>=0.20.0->category_encoders) (1.0.1)\n",
            "Requirement already satisfied: pytz>=2017.2 in /usr/local/lib/python3.7/dist-packages (from pandas>=0.21.1->category_encoders) (2018.9)\n",
            "Requirement already satisfied: python-dateutil>=2.7.3 in /usr/local/lib/python3.7/dist-packages (from pandas>=0.21.1->category_encoders) (2.8.1)\n",
            "Installing collected packages: category-encoders\n",
            "Successfully installed category-encoders-2.2.2\n"
          ],
          "name": "stdout"
        }
      ]
    },
    {
      "cell_type": "code",
      "metadata": {
        "id": "dLF_EVR5rJT5",
        "colab": {
          "base_uri": "https://localhost:8080/"
        },
        "outputId": "72ff9b0f-9515-43a6-98f0-0dedcf79472c"
      },
      "source": [
        "##Importing the Libraries\n",
        "\n",
        "import pandas as pd          \n",
        "import numpy as np           \n",
        "import category_encoders as ce\n",
        "import datetime as dt         #Handling DateTime variable\n",
        "\n",
        "##Plotting libraries\n",
        "import seaborn as sns   \n",
        "import matplotlib.pyplot as plt"
      ],
      "execution_count": null,
      "outputs": [
        {
          "output_type": "stream",
          "text": [
            "/usr/local/lib/python3.7/dist-packages/statsmodels/tools/_testing.py:19: FutureWarning: pandas.util.testing is deprecated. Use the functions in the public API at pandas.testing instead.\n",
            "  import pandas.util.testing as tm\n"
          ],
          "name": "stderr"
        }
      ]
    },
    {
      "cell_type": "code",
      "metadata": {
        "id": "vH7Na-UDrZkb"
      },
      "source": [
        "#Reading the train data\n",
        "data = pd.read_csv(\"/content/drive/MyDrive/sentiment_dataset/train_file.csv\")"
      ],
      "execution_count": null,
      "outputs": []
    },
    {
      "cell_type": "code",
      "metadata": {
        "colab": {
          "base_uri": "https://localhost:8080/",
          "height": 485
        },
        "id": "QFB1B9fIrte_",
        "outputId": "6b29644f-dda5-47ca-b148-275e0329c6e4"
      },
      "source": [
        "##Printing the top 5 records in the data\n",
        "data.head()"
      ],
      "execution_count": null,
      "outputs": [
        {
          "output_type": "execute_result",
          "data": {
            "text/html": [
              "<div>\n",
              "<style scoped>\n",
              "    .dataframe tbody tr th:only-of-type {\n",
              "        vertical-align: middle;\n",
              "    }\n",
              "\n",
              "    .dataframe tbody tr th {\n",
              "        vertical-align: top;\n",
              "    }\n",
              "\n",
              "    .dataframe thead th {\n",
              "        text-align: right;\n",
              "    }\n",
              "</style>\n",
              "<table border=\"1\" class=\"dataframe\">\n",
              "  <thead>\n",
              "    <tr style=\"text-align: right;\">\n",
              "      <th></th>\n",
              "      <th>IDLink</th>\n",
              "      <th>Title</th>\n",
              "      <th>Headline</th>\n",
              "      <th>Source</th>\n",
              "      <th>Topic</th>\n",
              "      <th>PublishDate</th>\n",
              "      <th>Facebook</th>\n",
              "      <th>GooglePlus</th>\n",
              "      <th>LinkedIn</th>\n",
              "      <th>SentimentTitle</th>\n",
              "      <th>SentimentHeadline</th>\n",
              "    </tr>\n",
              "  </thead>\n",
              "  <tbody>\n",
              "    <tr>\n",
              "      <th>0</th>\n",
              "      <td>Tr3CMgRv1N</td>\n",
              "      <td>Obama Lays Wreath at Arlington National Cemetery</td>\n",
              "      <td>Obama Lays Wreath at Arlington National Cemete...</td>\n",
              "      <td>USA TODAY</td>\n",
              "      <td>obama</td>\n",
              "      <td>2002-04-02 00:00:00</td>\n",
              "      <td>-1</td>\n",
              "      <td>-1</td>\n",
              "      <td>-1</td>\n",
              "      <td>0.000000</td>\n",
              "      <td>-0.053300</td>\n",
              "    </tr>\n",
              "    <tr>\n",
              "      <th>1</th>\n",
              "      <td>Wc81vGp8qZ</td>\n",
              "      <td>A Look at the Health of the Chinese Economy</td>\n",
              "      <td>Tim Haywood, investment director business-unit...</td>\n",
              "      <td>Bloomberg</td>\n",
              "      <td>economy</td>\n",
              "      <td>2008-09-20 00:00:00</td>\n",
              "      <td>-1</td>\n",
              "      <td>-1</td>\n",
              "      <td>-1</td>\n",
              "      <td>0.208333</td>\n",
              "      <td>-0.156386</td>\n",
              "    </tr>\n",
              "    <tr>\n",
              "      <th>2</th>\n",
              "      <td>zNGH03CrZH</td>\n",
              "      <td>Nouriel Roubini: Global Economy Not Back to 2008</td>\n",
              "      <td>Nouriel Roubini, NYU professor and chairman at...</td>\n",
              "      <td>Bloomberg</td>\n",
              "      <td>economy</td>\n",
              "      <td>2012-01-28 00:00:00</td>\n",
              "      <td>-1</td>\n",
              "      <td>-1</td>\n",
              "      <td>-1</td>\n",
              "      <td>-0.425210</td>\n",
              "      <td>0.139754</td>\n",
              "    </tr>\n",
              "    <tr>\n",
              "      <th>3</th>\n",
              "      <td>3sM1H0W8ts</td>\n",
              "      <td>Finland GDP Expands In Q4</td>\n",
              "      <td>Finland's economy expanded marginally in the t...</td>\n",
              "      <td>RTT News</td>\n",
              "      <td>economy</td>\n",
              "      <td>2015-03-01 00:06:00</td>\n",
              "      <td>-1</td>\n",
              "      <td>-1</td>\n",
              "      <td>-1</td>\n",
              "      <td>0.000000</td>\n",
              "      <td>0.026064</td>\n",
              "    </tr>\n",
              "    <tr>\n",
              "      <th>4</th>\n",
              "      <td>wUbnxgvqaZ</td>\n",
              "      <td>Tourism, govt spending buoys Thai economy in J...</td>\n",
              "      <td>Tourism and public spending continued to boost...</td>\n",
              "      <td>The Nation - Thailand&amp;#39;s English news</td>\n",
              "      <td>economy</td>\n",
              "      <td>2015-03-01 00:11:00</td>\n",
              "      <td>-1</td>\n",
              "      <td>-1</td>\n",
              "      <td>-1</td>\n",
              "      <td>0.000000</td>\n",
              "      <td>0.141084</td>\n",
              "    </tr>\n",
              "  </tbody>\n",
              "</table>\n",
              "</div>"
            ],
            "text/plain": [
              "       IDLink  ... SentimentHeadline\n",
              "0  Tr3CMgRv1N  ...         -0.053300\n",
              "1  Wc81vGp8qZ  ...         -0.156386\n",
              "2  zNGH03CrZH  ...          0.139754\n",
              "3  3sM1H0W8ts  ...          0.026064\n",
              "4  wUbnxgvqaZ  ...          0.141084\n",
              "\n",
              "[5 rows x 11 columns]"
            ]
          },
          "metadata": {
            "tags": []
          },
          "execution_count": 36
        }
      ]
    },
    {
      "cell_type": "markdown",
      "metadata": {
        "id": "ay8qy76njPtJ"
      },
      "source": [
        "##Null Values Check"
      ]
    },
    {
      "cell_type": "code",
      "metadata": {
        "colab": {
          "base_uri": "https://localhost:8080/"
        },
        "id": "YUMr2ffcruqv",
        "outputId": "4dec1b8f-b3a9-4995-d5a3-59283c858fa8"
      },
      "source": [
        "##There is one column having null values which is Source\n",
        "data.isnull().sum()"
      ],
      "execution_count": null,
      "outputs": [
        {
          "output_type": "execute_result",
          "data": {
            "text/plain": [
              "IDLink                 0\n",
              "Title                  0\n",
              "Headline               0\n",
              "Source               175\n",
              "Topic                  0\n",
              "PublishDate            0\n",
              "Facebook               0\n",
              "GooglePlus             0\n",
              "LinkedIn               0\n",
              "SentimentTitle         0\n",
              "SentimentHeadline      0\n",
              "dtype: int64"
            ]
          },
          "metadata": {
            "tags": []
          },
          "execution_count": 37
        }
      ]
    },
    {
      "cell_type": "code",
      "metadata": {
        "colab": {
          "base_uri": "https://localhost:8080/"
        },
        "id": "2ceHEIWlr0eF",
        "outputId": "42588acd-d6c7-4742-d913-52064d8f2b6d"
      },
      "source": [
        "##Shape of the data\n",
        "data.shape"
      ],
      "execution_count": null,
      "outputs": [
        {
          "output_type": "execute_result",
          "data": {
            "text/plain": [
              "(55932, 11)"
            ]
          },
          "metadata": {
            "tags": []
          },
          "execution_count": 38
        }
      ]
    },
    {
      "cell_type": "code",
      "metadata": {
        "colab": {
          "base_uri": "https://localhost:8080/"
        },
        "id": "PhVzpnHEr9s_",
        "outputId": "4596bf2e-04af-4c36-d991-8b14a10c896b"
      },
      "source": [
        "##There are 4754 unique values in the Source column\n",
        "len(data[\"Source\"].unique())"
      ],
      "execution_count": null,
      "outputs": [
        {
          "output_type": "execute_result",
          "data": {
            "text/plain": [
              "4754"
            ]
          },
          "metadata": {
            "tags": []
          },
          "execution_count": 39
        }
      ]
    },
    {
      "cell_type": "code",
      "metadata": {
        "id": "8MHPyI0Ktmnk"
      },
      "source": [
        "##I have used the copy function so that the changes done in final is not reflected in data for preserving the original data\n",
        "final = data.copy()"
      ],
      "execution_count": null,
      "outputs": []
    },
    {
      "cell_type": "markdown",
      "metadata": {
        "id": "iF2oy6m0jxqM"
      },
      "source": [
        "#Impute the Null Value"
      ]
    },
    {
      "cell_type": "markdown",
      "metadata": {
        "id": "-zHP9UIppDQk"
      },
      "source": [
        "Replacing the null value for Source Column\n",
        "\n",
        "1.Mode for Categorical column\n",
        "\n",
        "2.Missing string for the null value\n",
        "\n",
        "3.Backward Fill(bfill) for the null value\n",
        "\n",
        "4.Forward Fill(ffill) for the null value\n",
        "\n",
        "Methods 1 and 2 have given the same performance and 3,4 given a little decline in the score values so ignored those 2 approaches"
      ]
    },
    {
      "cell_type": "code",
      "metadata": {
        "id": "j8Us38izsHVG",
        "colab": {
          "base_uri": "https://localhost:8080/",
          "height": 53
        },
        "outputId": "7238ed24-c7ac-4bf6-b795-8d802483649f"
      },
      "source": [
        "## Handling the Source Column\n",
        "mode_for_Source = final[\"Source\"].mode()[0]             ##Compute the mode value\n",
        "\n",
        "## Imputing the Missing value in the Source column\n",
        "final[\"Source\"].fillna(mode_for_Source,inplace = True)  ##Mode \n",
        "'''\n",
        "final[\"Source\"].fillna(\"Missing\",inplace=True)          ##Missing\n",
        "final.ffill(axis=\"rows\",inplace=True)                   ##Forward Fill\n",
        "final.bfill(axis=\"rows\",inplace=True)                   ##Backward Fill\n",
        "'''"
      ],
      "execution_count": null,
      "outputs": [
        {
          "output_type": "execute_result",
          "data": {
            "application/vnd.google.colaboratory.intrinsic+json": {
              "type": "string"
            },
            "text/plain": [
              "'\\nfinal[\"Source\"].fillna(\"Missing\",inplace=True)          ##Missing\\nfinal.ffill(axis=\"rows\",inplace=True)                   ##Forward Fill\\nfinal.bfill(axis=\"rows\",inplace=True)                   ##Backward Fill\\n'"
            ]
          },
          "metadata": {
            "tags": []
          },
          "execution_count": 10
        }
      ]
    },
    {
      "cell_type": "code",
      "metadata": {
        "colab": {
          "base_uri": "https://localhost:8080/"
        },
        "id": "Mwu1zLom_nH9",
        "outputId": "7372365e-d0cb-4cad-87a2-4b293a55c10e"
      },
      "source": [
        "final.isnull().sum()"
      ],
      "execution_count": null,
      "outputs": [
        {
          "output_type": "execute_result",
          "data": {
            "text/plain": [
              "IDLink               0\n",
              "Title                0\n",
              "Headline             0\n",
              "Source               0\n",
              "Topic                0\n",
              "PublishDate          0\n",
              "Facebook             0\n",
              "GooglePlus           0\n",
              "LinkedIn             0\n",
              "SentimentTitle       0\n",
              "SentimentHeadline    0\n",
              "dtype: int64"
            ]
          },
          "metadata": {
            "tags": []
          },
          "execution_count": 11
        }
      ]
    },
    {
      "cell_type": "code",
      "metadata": {
        "colab": {
          "base_uri": "https://localhost:8080/",
          "height": 294
        },
        "id": "sXHCG0AVrpha",
        "outputId": "b90f8a98-167c-43bb-a3e6-be80046bc210"
      },
      "source": [
        "final.describe()"
      ],
      "execution_count": null,
      "outputs": [
        {
          "output_type": "execute_result",
          "data": {
            "text/html": [
              "<div>\n",
              "<style scoped>\n",
              "    .dataframe tbody tr th:only-of-type {\n",
              "        vertical-align: middle;\n",
              "    }\n",
              "\n",
              "    .dataframe tbody tr th {\n",
              "        vertical-align: top;\n",
              "    }\n",
              "\n",
              "    .dataframe thead th {\n",
              "        text-align: right;\n",
              "    }\n",
              "</style>\n",
              "<table border=\"1\" class=\"dataframe\">\n",
              "  <thead>\n",
              "    <tr style=\"text-align: right;\">\n",
              "      <th></th>\n",
              "      <th>Facebook</th>\n",
              "      <th>GooglePlus</th>\n",
              "      <th>LinkedIn</th>\n",
              "      <th>SentimentTitle</th>\n",
              "      <th>SentimentHeadline</th>\n",
              "    </tr>\n",
              "  </thead>\n",
              "  <tbody>\n",
              "    <tr>\n",
              "      <th>count</th>\n",
              "      <td>55932.000000</td>\n",
              "      <td>55932.000000</td>\n",
              "      <td>55932.000000</td>\n",
              "      <td>55932.000000</td>\n",
              "      <td>55932.000000</td>\n",
              "    </tr>\n",
              "    <tr>\n",
              "      <th>mean</th>\n",
              "      <td>132.050329</td>\n",
              "      <td>4.551616</td>\n",
              "      <td>14.300132</td>\n",
              "      <td>-0.006318</td>\n",
              "      <td>-0.029577</td>\n",
              "    </tr>\n",
              "    <tr>\n",
              "      <th>std</th>\n",
              "      <td>722.931314</td>\n",
              "      <td>21.137177</td>\n",
              "      <td>76.651420</td>\n",
              "      <td>0.137569</td>\n",
              "      <td>0.143038</td>\n",
              "    </tr>\n",
              "    <tr>\n",
              "      <th>min</th>\n",
              "      <td>-1.000000</td>\n",
              "      <td>-1.000000</td>\n",
              "      <td>-1.000000</td>\n",
              "      <td>-0.838525</td>\n",
              "      <td>-0.755355</td>\n",
              "    </tr>\n",
              "    <tr>\n",
              "      <th>25%</th>\n",
              "      <td>0.000000</td>\n",
              "      <td>0.000000</td>\n",
              "      <td>0.000000</td>\n",
              "      <td>-0.079057</td>\n",
              "      <td>-0.116927</td>\n",
              "    </tr>\n",
              "    <tr>\n",
              "      <th>50%</th>\n",
              "      <td>6.000000</td>\n",
              "      <td>0.000000</td>\n",
              "      <td>0.000000</td>\n",
              "      <td>0.000000</td>\n",
              "      <td>-0.027277</td>\n",
              "    </tr>\n",
              "    <tr>\n",
              "      <th>75%</th>\n",
              "      <td>37.000000</td>\n",
              "      <td>2.000000</td>\n",
              "      <td>4.000000</td>\n",
              "      <td>0.063969</td>\n",
              "      <td>0.057354</td>\n",
              "    </tr>\n",
              "    <tr>\n",
              "      <th>max</th>\n",
              "      <td>49211.000000</td>\n",
              "      <td>1267.000000</td>\n",
              "      <td>3716.000000</td>\n",
              "      <td>0.962354</td>\n",
              "      <td>0.964646</td>\n",
              "    </tr>\n",
              "  </tbody>\n",
              "</table>\n",
              "</div>"
            ],
            "text/plain": [
              "           Facebook    GooglePlus  ...  SentimentTitle  SentimentHeadline\n",
              "count  55932.000000  55932.000000  ...    55932.000000       55932.000000\n",
              "mean     132.050329      4.551616  ...       -0.006318          -0.029577\n",
              "std      722.931314     21.137177  ...        0.137569           0.143038\n",
              "min       -1.000000     -1.000000  ...       -0.838525          -0.755355\n",
              "25%        0.000000      0.000000  ...       -0.079057          -0.116927\n",
              "50%        6.000000      0.000000  ...        0.000000          -0.027277\n",
              "75%       37.000000      2.000000  ...        0.063969           0.057354\n",
              "max    49211.000000   1267.000000  ...        0.962354           0.964646\n",
              "\n",
              "[8 rows x 5 columns]"
            ]
          },
          "metadata": {
            "tags": []
          },
          "execution_count": 12
        }
      ]
    },
    {
      "cell_type": "markdown",
      "metadata": {
        "id": "_qQA5jhBcVSa"
      },
      "source": [
        "##EDA"
      ]
    },
    {
      "cell_type": "markdown",
      "metadata": {
        "id": "nleA5jtAy09h"
      },
      "source": [
        "This step is very much necessary to understand more about the data and we can also make statistical conclusions from different plots of the data"
      ]
    },
    {
      "cell_type": "markdown",
      "metadata": {
        "id": "0wGydLUoyw9G"
      },
      "source": [
        "Analysis of all the plots is explained below the plots"
      ]
    },
    {
      "cell_type": "code",
      "metadata": {
        "id": "RRClU6PDrOpJ"
      },
      "source": [
        "y = final[[\"SentimentTitle\",\"SentimentHeadline\"]]\n",
        "y.head()\n",
        "\n",
        "final.drop([\"SentimentTitle\",\"SentimentHeadline\"],axis=1,inplace=True)"
      ],
      "execution_count": null,
      "outputs": []
    },
    {
      "cell_type": "code",
      "metadata": {
        "colab": {
          "base_uri": "https://localhost:8080/",
          "height": 783
        },
        "id": "2PhfJD8pny0u",
        "outputId": "c2f9b671-4a87-4c7a-fc5c-a556bb5dcc33"
      },
      "source": [
        "##Null values using barplot\n",
        "null_values = final.isnull().sum()\n",
        "null_values = pd.DataFrame({'Feature': null_values.index,'Count':null_values.values})\n",
        "\n",
        "plt.figure(figsize=(10,8))\n",
        "g = sns.barplot(x=\"Feature\",y=\"Count\",data=null_values,color=\"blue\")\n",
        "g.set_title(\"Missing values across the different columns\")\n",
        "g.set_xlabel(\"Feature\",fontsize=15)\n",
        "g.set_ylabel(\"Count\", fontsize=15)\n",
        "g.set_xticklabels(g.get_xticklabels(), rotation=90, fontsize=13)"
      ],
      "execution_count": null,
      "outputs": [
        {
          "output_type": "execute_result",
          "data": {
            "text/plain": [
              "[Text(0, 0, 'IDLink'),\n",
              " Text(0, 0, 'Title'),\n",
              " Text(0, 0, 'Headline'),\n",
              " Text(0, 0, 'Source'),\n",
              " Text(0, 0, 'Topic'),\n",
              " Text(0, 0, 'PublishDate'),\n",
              " Text(0, 0, 'Facebook'),\n",
              " Text(0, 0, 'GooglePlus'),\n",
              " Text(0, 0, 'LinkedIn'),\n",
              " Text(0, 0, 'datetime'),\n",
              " Text(0, 0, 'year')]"
            ]
          },
          "metadata": {
            "tags": []
          },
          "execution_count": 129
        },
        {
          "output_type": "display_data",
          "data": {
            "image/png": "[encoded data removed]",
            "text/plain": [
              "<Figure size 720x576 with 1 Axes>"
            ]
          },
          "metadata": {
            "tags": []
          }
        }
      ]
    },
    {
      "cell_type": "code",
      "metadata": {
        "colab": {
          "base_uri": "https://localhost:8080/",
          "height": 354
        },
        "id": "MTO8wXu-d_En",
        "outputId": "3f43b90f-ed62-4e4d-8e5d-cd400a1abfee"
      },
      "source": [
        "sns.countplot(\"Topic\", data= final)"
      ],
      "execution_count": null,
      "outputs": [
        {
          "output_type": "stream",
          "text": [
            "/usr/local/lib/python3.7/dist-packages/seaborn/_decorators.py:43: FutureWarning: Pass the following variable as a keyword arg: x. From version 0.12, the only valid positional argument will be `data`, and passing other arguments without an explicit keyword will result in an error or misinterpretation.\n",
            "  FutureWarning\n"
          ],
          "name": "stderr"
        },
        {
          "output_type": "execute_result",
          "data": {
            "text/plain": [
              "<matplotlib.axes._subplots.AxesSubplot at 0x7fa351541b10>"
            ]
          },
          "metadata": {
            "tags": []
          },
          "execution_count": 48
        },
        {
          "output_type": "display_data",
          "data": {
            "image/png": "[encoded data removed]",
            "text/plain": [
              "<Figure size 432x288 with 1 Axes>"
            ]
          },
          "metadata": {
            "tags": [],
            "needs_background": "light"
          }
        }
      ]
    },
    {
      "cell_type": "markdown",
      "metadata": {
        "id": "yw4w63pGNKvA"
      },
      "source": [
        "This plot gives us the count of the 4 categories in the Topic column\n",
        "\n",
        "Here we can say that \n",
        "\n",
        "News related to economy is more \n",
        "\n",
        "News related to palestine is less"
      ]
    },
    {
      "cell_type": "markdown",
      "metadata": {
        "id": "09sOfQRXPY_O"
      },
      "source": [
        "As this is not a classification problem there is no imbalanced data issues\n",
        "\n",
        "Plotting for the Source column is possible but as it has 4754 unique values in it if we plot also it is difficult to interpret the plot"
      ]
    },
    {
      "cell_type": "code",
      "metadata": {
        "id": "8cTBQ-srK2p6"
      },
      "source": [
        "def scatterplot(i,x,y):\n",
        "  plt.subplot(1,3,i)\n",
        "  plt.scatter(x,y,data=final)\n",
        "  plt.xlabel(x)\n",
        "  plt.ylabel(y)"
      ],
      "execution_count": null,
      "outputs": []
    },
    {
      "cell_type": "code",
      "metadata": {
        "id": "IKkAzyPkJA27"
      },
      "source": [
        "plt.figure(figsize=(18,8))\n",
        "scatterplot(1,\"Facebook\",\"SentimentTitle\")\n",
        "scatterplot(2,\"LinkedIn\",\"SentimentTitle\")\n",
        "scatterplot(3,\"GooglePlus\",\"SentimentTitle\")"
      ],
      "execution_count": null,
      "outputs": []
    },
    {
      "cell_type": "code",
      "metadata": {
        "colab": {
          "base_uri": "https://localhost:8080/",
          "height": 814
        },
        "id": "lgixkbGRi0ps",
        "outputId": "e16bf19a-8e6f-4457-e358-e7c4eb2758e5"
      },
      "source": [
        "sns.pairplot(final,hue=\"Topic\")"
      ],
      "execution_count": null,
      "outputs": [
        {
          "output_type": "execute_result",
          "data": {
            "text/plain": [
              "<seaborn.axisgrid.PairGrid at 0x7fa34fb44ad0>"
            ]
          },
          "metadata": {
            "tags": []
          },
          "execution_count": 49
        },
        {
          "output_type": "display_data",
          "data": {
            "image/png": "[encoded data removed]",
            "text/plain": [
              "<Figure size 982.5x900 with 30 Axes>"
            ]
          },
          "metadata": {
            "tags": [],
            "needs_background": "light"
          }
        }
      ]
    },
    {
      "cell_type": "markdown",
      "metadata": {
        "id": "KHqx3HpaOIVf"
      },
      "source": [
        "From this above plot we have \n",
        "\n",
        "1.Density Curve of the Features\n",
        "\n",
        "2.Different Scatter Plot for features with respect to x and y axis \n",
        "\n",
        "From the Density Plot of Facebook , LinkedIn and GooglePlus we can say that they are not normally distributed and we can say from the scatter plots that there is no linear relationship and no strong coorelation to the target variable from any of the independent variable but the 2 target variables are normally distributed and Linear based Machine learning algorithms are not suitable for this type of data"
      ]
    },
    {
      "cell_type": "code",
      "metadata": {
        "colab": {
          "base_uri": "https://localhost:8080/",
          "height": 532
        },
        "id": "E34Gv5kwVKBa",
        "outputId": "3e82f2e1-76eb-43c9-a77b-5eefd2e51168"
      },
      "source": [
        "##Box Plots\n",
        "plt.figure(figsize=(14,6))\n",
        "\n",
        "plt.subplot(1,3,1)\n",
        "sns.boxplot('year','Facebook',data = final)\n",
        "\n",
        "plt.subplot(1,3,2)\n",
        "sns.boxplot('year','LinkedIn',data = final)\n",
        "\n",
        "plt.subplot(1,3,3)\n",
        "sns.boxplot('year','GooglePlus',data = final)"
      ],
      "execution_count": null,
      "outputs": [
        {
          "output_type": "stream",
          "text": [
            "/usr/local/lib/python3.7/dist-packages/seaborn/_decorators.py:43: FutureWarning: Pass the following variables as keyword args: x, y. From version 0.12, the only valid positional argument will be `data`, and passing other arguments without an explicit keyword will result in an error or misinterpretation.\n",
            "  FutureWarning\n",
            "/usr/local/lib/python3.7/dist-packages/seaborn/_decorators.py:43: FutureWarning: Pass the following variables as keyword args: x, y. From version 0.12, the only valid positional argument will be `data`, and passing other arguments without an explicit keyword will result in an error or misinterpretation.\n",
            "  FutureWarning\n",
            "/usr/local/lib/python3.7/dist-packages/seaborn/_decorators.py:43: FutureWarning: Pass the following variables as keyword args: x, y. From version 0.12, the only valid positional argument will be `data`, and passing other arguments without an explicit keyword will result in an error or misinterpretation.\n",
            "  FutureWarning\n"
          ],
          "name": "stderr"
        },
        {
          "output_type": "execute_result",
          "data": {
            "text/plain": [
              "<matplotlib.axes._subplots.AxesSubplot at 0x7f4f42102710>"
            ]
          },
          "metadata": {
            "tags": []
          },
          "execution_count": 67
        },
        {
          "output_type": "display_data",
          "data": {
            "image/png": "[encoded data removed]",
            "text/plain": [
              "<Figure size 1008x432 with 3 Axes>"
            ]
          },
          "metadata": {
            "tags": [],
            "needs_background": "light"
          }
        }
      ]
    },
    {
      "cell_type": "markdown",
      "metadata": {
        "id": "0BPB4f9ZWfgZ"
      },
      "source": [
        "This is the box plot for the Topic with respect to Social Media features such as Facebook , LinkedIn and GooglePlus\n",
        "\n",
        "From the these plots we can say that there are more outliers in these columns and all are skewed distributions and Palestine has less outliers compared to others and it also has less occurences in the dataset "
      ]
    },
    {
      "cell_type": "markdown",
      "metadata": {
        "id": "xSNO0nl2pu6T"
      },
      "source": [
        "##Encoding the Source Categorical Column"
      ]
    },
    {
      "cell_type": "markdown",
      "metadata": {
        "id": "pVFH5Uh8p093"
      },
      "source": [
        "Used encoding methods for the source column as any Machine Learning algorithm requires data to be in numeric format\n",
        "\n",
        "1.Frequency Encoding\n",
        "\n",
        "2.Binary Encoding\n",
        "\n",
        "3.Obtaining the Top 10 Features of this column\n",
        "\n",
        "1.It is a way to utilize the frequency of the categories as labels. In the cases where the frequency is related somewhat to the target variable, it helps the model understand and assign the weight in direct and inverse proportion, depending on the nature of the data \n",
        "\n",
        "2.Binary encoding returns log(base2)^n features and here I have 4754 labels it results to 13 features which actually reduced score.This also leads to curse of dimensionality. So I ignored this approach.\n",
        "\n",
        "3.This is a good technique where I obtain top 10 labels of this column and apply one hot encoding for these labels ignoring the other and this is a widely used technique for high cardinality of lables in a feature and it was introduced in KDD Cup Orange Challenge and this also gave me same score like Frequency Encoding so I ignored this approach"
      ]
    },
    {
      "cell_type": "code",
      "metadata": {
        "id": "nvHwnzE6CxpY"
      },
      "source": [
        "import category_encoders as ce1"
      ],
      "execution_count": null,
      "outputs": []
    },
    {
      "cell_type": "code",
      "metadata": {
        "id": "3fwqTICt6hdU",
        "colab": {
          "base_uri": "https://localhost:8080/",
          "height": 90
        },
        "outputId": "23049739-b5a2-4b8a-8265-4e3a4f6b94c6"
      },
      "source": [
        "##Handling the Source Column\n",
        "\n",
        "##Encoding with the Frequency encoding for Source Variable\n",
        "fe = final.groupby(\"Source\").size()/len(final)\n",
        "final.loc[:,\"Source_encode_fe\"] = final[\"Source\"].map(fe)\n",
        "\n",
        "'''\n",
        "##Encoding with the Binary Encoding\n",
        "encoding = ce1.BinaryEncoder(cols=\"Source\")\n",
        "df = encoding.fit_transform(final[\"Source\"])\n",
        "\n",
        "##One Hot Encoding for the Top 10 Labels\n",
        "top_10_labels = final[\"Source\"].value_counts().sort_values(ascending=False).head(10).index\n",
        "print(top_10_labels)\n",
        "\n",
        "for label in top_10_labels:\n",
        "  final[label] = np.where(final['Source'] == label,1,0)\n",
        "'''"
      ],
      "execution_count": null,
      "outputs": [
        {
          "output_type": "execute_result",
          "data": {
            "application/vnd.google.colaboratory.intrinsic+json": {
              "type": "string"
            },
            "text/plain": [
              "'\\n##Encoding with the Binary Encoding\\nencoding = ce1.BinaryEncoder(cols=\"Source\")\\ndf = encoding.fit_transform(final[\"Source\"])\\n\\n##One Hot Encoding for the Top 10 Labels\\ntop_10_labels = final[\"Source\"].value_counts().sort_values(ascending=False).head(10).index\\nprint(top_10_labels)\\n\\nfor label in top_10_labels:\\n  final[label] = np.where(final[\\'Source\\'] == label,1,0)\\n'"
            ]
          },
          "metadata": {
            "tags": []
          },
          "execution_count": 66
        }
      ]
    },
    {
      "cell_type": "markdown",
      "metadata": {
        "id": "UF6CL-ZUsLG9"
      },
      "source": [
        "##Handling Date time column"
      ]
    },
    {
      "cell_type": "markdown",
      "metadata": {
        "id": "ytsVQziosPZT"
      },
      "source": [
        "I extracted the year from datetime column and ignored the month and day as its contribution is less towards target variable and reduced the final score and I also observed a reccurence relation in these two columns and not contributing to target variable. So I ignored those 2 columns"
      ]
    },
    {
      "cell_type": "code",
      "metadata": {
        "id": "ZcJ_nXBYfOxR"
      },
      "source": [
        "##Handling the Datetime Column\n",
        "\n",
        "final[\"datetime\"] = pd.to_datetime(final[\"PublishDate\"])\n",
        "final[\"year\"] = final[\"datetime\"].dt.year"
      ],
      "execution_count": null,
      "outputs": []
    },
    {
      "cell_type": "code",
      "metadata": {
        "colab": {
          "base_uri": "https://localhost:8080/",
          "height": 416
        },
        "id": "8PrKamB-HBXv",
        "outputId": "6bff440b-64dd-4451-cca9-5bfe85a622c4"
      },
      "source": [
        "final.groupby([\"Topic\",\"year\"]).agg({\"GooglePlus\":max})"
      ],
      "execution_count": null,
      "outputs": [
        {
          "output_type": "execute_result",
          "data": {
            "text/html": [
              "<div>\n",
              "<style scoped>\n",
              "    .dataframe tbody tr th:only-of-type {\n",
              "        vertical-align: middle;\n",
              "    }\n",
              "\n",
              "    .dataframe tbody tr th {\n",
              "        vertical-align: top;\n",
              "    }\n",
              "\n",
              "    .dataframe thead th {\n",
              "        text-align: right;\n",
              "    }\n",
              "</style>\n",
              "<table border=\"1\" class=\"dataframe\">\n",
              "  <thead>\n",
              "    <tr style=\"text-align: right;\">\n",
              "      <th></th>\n",
              "      <th></th>\n",
              "      <th>GooglePlus</th>\n",
              "    </tr>\n",
              "    <tr>\n",
              "      <th>Topic</th>\n",
              "      <th>year</th>\n",
              "      <th></th>\n",
              "    </tr>\n",
              "  </thead>\n",
              "  <tbody>\n",
              "    <tr>\n",
              "      <th rowspan=\"4\" valign=\"top\">economy</th>\n",
              "      <th>2008</th>\n",
              "      <td>-1</td>\n",
              "    </tr>\n",
              "    <tr>\n",
              "      <th>2012</th>\n",
              "      <td>-1</td>\n",
              "    </tr>\n",
              "    <tr>\n",
              "      <th>2015</th>\n",
              "      <td>804</td>\n",
              "    </tr>\n",
              "    <tr>\n",
              "      <th>2016</th>\n",
              "      <td>1267</td>\n",
              "    </tr>\n",
              "    <tr>\n",
              "      <th rowspan=\"2\" valign=\"top\">microsoft</th>\n",
              "      <th>2015</th>\n",
              "      <td>504</td>\n",
              "    </tr>\n",
              "    <tr>\n",
              "      <th>2016</th>\n",
              "      <td>1001</td>\n",
              "    </tr>\n",
              "    <tr>\n",
              "      <th rowspan=\"3\" valign=\"top\">obama</th>\n",
              "      <th>2002</th>\n",
              "      <td>-1</td>\n",
              "    </tr>\n",
              "    <tr>\n",
              "      <th>2015</th>\n",
              "      <td>666</td>\n",
              "    </tr>\n",
              "    <tr>\n",
              "      <th>2016</th>\n",
              "      <td>725</td>\n",
              "    </tr>\n",
              "    <tr>\n",
              "      <th rowspan=\"2\" valign=\"top\">palestine</th>\n",
              "      <th>2015</th>\n",
              "      <td>207</td>\n",
              "    </tr>\n",
              "    <tr>\n",
              "      <th>2016</th>\n",
              "      <td>392</td>\n",
              "    </tr>\n",
              "  </tbody>\n",
              "</table>\n",
              "</div>"
            ],
            "text/plain": [
              "                GooglePlus\n",
              "Topic     year            \n",
              "economy   2008          -1\n",
              "          2012          -1\n",
              "          2015         804\n",
              "          2016        1267\n",
              "microsoft 2015         504\n",
              "          2016        1001\n",
              "obama     2002          -1\n",
              "          2015         666\n",
              "          2016         725\n",
              "palestine 2015         207\n",
              "          2016         392"
            ]
          },
          "metadata": {
            "tags": []
          },
          "execution_count": 49
        }
      ]
    },
    {
      "cell_type": "code",
      "metadata": {
        "colab": {
          "base_uri": "https://localhost:8080/",
          "height": 416
        },
        "id": "f7TwAwsKCFsu",
        "outputId": "a1e1e363-890d-436a-9c35-9dceae062513"
      },
      "source": [
        "final.groupby([\"Topic\",\"year\"]).agg({\"LinkedIn\":max})"
      ],
      "execution_count": null,
      "outputs": [
        {
          "output_type": "execute_result",
          "data": {
            "text/html": [
              "<div>\n",
              "<style scoped>\n",
              "    .dataframe tbody tr th:only-of-type {\n",
              "        vertical-align: middle;\n",
              "    }\n",
              "\n",
              "    .dataframe tbody tr th {\n",
              "        vertical-align: top;\n",
              "    }\n",
              "\n",
              "    .dataframe thead th {\n",
              "        text-align: right;\n",
              "    }\n",
              "</style>\n",
              "<table border=\"1\" class=\"dataframe\">\n",
              "  <thead>\n",
              "    <tr style=\"text-align: right;\">\n",
              "      <th></th>\n",
              "      <th></th>\n",
              "      <th>LinkedIn</th>\n",
              "    </tr>\n",
              "    <tr>\n",
              "      <th>Topic</th>\n",
              "      <th>year</th>\n",
              "      <th></th>\n",
              "    </tr>\n",
              "  </thead>\n",
              "  <tbody>\n",
              "    <tr>\n",
              "      <th rowspan=\"4\" valign=\"top\">economy</th>\n",
              "      <th>2008</th>\n",
              "      <td>-1</td>\n",
              "    </tr>\n",
              "    <tr>\n",
              "      <th>2012</th>\n",
              "      <td>-1</td>\n",
              "    </tr>\n",
              "    <tr>\n",
              "      <th>2015</th>\n",
              "      <td>1864</td>\n",
              "    </tr>\n",
              "    <tr>\n",
              "      <th>2016</th>\n",
              "      <td>3716</td>\n",
              "    </tr>\n",
              "    <tr>\n",
              "      <th rowspan=\"2\" valign=\"top\">microsoft</th>\n",
              "      <th>2015</th>\n",
              "      <td>1665</td>\n",
              "    </tr>\n",
              "    <tr>\n",
              "      <th>2016</th>\n",
              "      <td>3652</td>\n",
              "    </tr>\n",
              "    <tr>\n",
              "      <th rowspan=\"3\" valign=\"top\">obama</th>\n",
              "      <th>2002</th>\n",
              "      <td>-1</td>\n",
              "    </tr>\n",
              "    <tr>\n",
              "      <th>2015</th>\n",
              "      <td>1093</td>\n",
              "    </tr>\n",
              "    <tr>\n",
              "      <th>2016</th>\n",
              "      <td>1858</td>\n",
              "    </tr>\n",
              "    <tr>\n",
              "      <th rowspan=\"2\" valign=\"top\">palestine</th>\n",
              "      <th>2015</th>\n",
              "      <td>89</td>\n",
              "    </tr>\n",
              "    <tr>\n",
              "      <th>2016</th>\n",
              "      <td>983</td>\n",
              "    </tr>\n",
              "  </tbody>\n",
              "</table>\n",
              "</div>"
            ],
            "text/plain": [
              "                LinkedIn\n",
              "Topic     year          \n",
              "economy   2008        -1\n",
              "          2012        -1\n",
              "          2015      1864\n",
              "          2016      3716\n",
              "microsoft 2015      1665\n",
              "          2016      3652\n",
              "obama     2002        -1\n",
              "          2015      1093\n",
              "          2016      1858\n",
              "palestine 2015        89\n",
              "          2016       983"
            ]
          },
          "metadata": {
            "tags": []
          },
          "execution_count": 50
        }
      ]
    },
    {
      "cell_type": "code",
      "metadata": {
        "colab": {
          "base_uri": "https://localhost:8080/",
          "height": 416
        },
        "id": "nuyyBWnYPLzn",
        "outputId": "9f22c6f6-ac15-4f87-95e9-ebf2d7d8bf0e"
      },
      "source": [
        "final.groupby([\"Topic\",\"year\"]).agg({\"Facebook\":max})"
      ],
      "execution_count": null,
      "outputs": [
        {
          "output_type": "execute_result",
          "data": {
            "text/html": [
              "<div>\n",
              "<style scoped>\n",
              "    .dataframe tbody tr th:only-of-type {\n",
              "        vertical-align: middle;\n",
              "    }\n",
              "\n",
              "    .dataframe tbody tr th {\n",
              "        vertical-align: top;\n",
              "    }\n",
              "\n",
              "    .dataframe thead th {\n",
              "        text-align: right;\n",
              "    }\n",
              "</style>\n",
              "<table border=\"1\" class=\"dataframe\">\n",
              "  <thead>\n",
              "    <tr style=\"text-align: right;\">\n",
              "      <th></th>\n",
              "      <th></th>\n",
              "      <th>Facebook</th>\n",
              "    </tr>\n",
              "    <tr>\n",
              "      <th>Topic</th>\n",
              "      <th>year</th>\n",
              "      <th></th>\n",
              "    </tr>\n",
              "  </thead>\n",
              "  <tbody>\n",
              "    <tr>\n",
              "      <th rowspan=\"4\" valign=\"top\">economy</th>\n",
              "      <th>2008</th>\n",
              "      <td>-1</td>\n",
              "    </tr>\n",
              "    <tr>\n",
              "      <th>2012</th>\n",
              "      <td>-1</td>\n",
              "    </tr>\n",
              "    <tr>\n",
              "      <th>2015</th>\n",
              "      <td>29564</td>\n",
              "    </tr>\n",
              "    <tr>\n",
              "      <th>2016</th>\n",
              "      <td>49211</td>\n",
              "    </tr>\n",
              "    <tr>\n",
              "      <th rowspan=\"2\" valign=\"top\">microsoft</th>\n",
              "      <th>2015</th>\n",
              "      <td>1788</td>\n",
              "    </tr>\n",
              "    <tr>\n",
              "      <th>2016</th>\n",
              "      <td>22346</td>\n",
              "    </tr>\n",
              "    <tr>\n",
              "      <th rowspan=\"3\" valign=\"top\">obama</th>\n",
              "      <th>2002</th>\n",
              "      <td>-1</td>\n",
              "    </tr>\n",
              "    <tr>\n",
              "      <th>2015</th>\n",
              "      <td>24594</td>\n",
              "    </tr>\n",
              "    <tr>\n",
              "      <th>2016</th>\n",
              "      <td>40836</td>\n",
              "    </tr>\n",
              "    <tr>\n",
              "      <th rowspan=\"2\" valign=\"top\">palestine</th>\n",
              "      <th>2015</th>\n",
              "      <td>7277</td>\n",
              "    </tr>\n",
              "    <tr>\n",
              "      <th>2016</th>\n",
              "      <td>8840</td>\n",
              "    </tr>\n",
              "  </tbody>\n",
              "</table>\n",
              "</div>"
            ],
            "text/plain": [
              "                Facebook\n",
              "Topic     year          \n",
              "economy   2008        -1\n",
              "          2012        -1\n",
              "          2015     29564\n",
              "          2016     49211\n",
              "microsoft 2015      1788\n",
              "          2016     22346\n",
              "obama     2002        -1\n",
              "          2015     24594\n",
              "          2016     40836\n",
              "palestine 2015      7277\n",
              "          2016      8840"
            ]
          },
          "metadata": {
            "tags": []
          },
          "execution_count": 133
        }
      ]
    },
    {
      "cell_type": "code",
      "metadata": {
        "colab": {
          "base_uri": "https://localhost:8080/",
          "height": 35
        },
        "id": "N_0ZJBXVGRFB",
        "outputId": "d8940322-52cc-496f-e937-4149a6fc8630"
      },
      "source": [
        "final[\"Headline\"][(final[\"Facebook\"] == 22346) & (final[\"Topic\"] == \"microsoft\") & (final[\"year\"] == 2016)].iloc[0]"
      ],
      "execution_count": null,
      "outputs": [
        {
          "output_type": "execute_result",
          "data": {
            "application/vnd.google.colaboratory.intrinsic+json": {
              "type": "string"
            },
            "text/plain": [
              "\"Developers at Microsoft created 'Tay', an AI modelled to speak 'like a teen girl', in order to improve the customer service on their voice\""
            ]
          },
          "metadata": {
            "tags": []
          },
          "execution_count": 138
        }
      ]
    },
    {
      "cell_type": "code",
      "metadata": {
        "colab": {
          "base_uri": "https://localhost:8080/",
          "height": 638
        },
        "id": "l1erOxq3mQB5",
        "outputId": "b85fec3a-94e2-4ba6-980a-985db7e66d1e"
      },
      "source": [
        "plt.figure(figsize=(10,10))\n",
        "\n",
        "plt.subplot(3,1,1)\n",
        "plt.title(\"Time Series Plot for the 3 Social Media Features\")\n",
        "sns.lineplot(x=\"year\",y=\"Facebook\",hue=\"Topic\",style=\"Topic\",data=final)\n",
        "\n",
        "plt.subplot(3,1,2)\n",
        "sns.lineplot(x=\"year\",y=\"LinkedIn\",hue=\"Topic\",style=\"Topic\",data=final)\n",
        "\n",
        "plt.subplot(3,1,3)\n",
        "sns.lineplot(x=\"year\",y=\"GooglePlus\",hue=\"Topic\",style=\"Topic\",data=final)"
      ],
      "execution_count": null,
      "outputs": [
        {
          "output_type": "execute_result",
          "data": {
            "text/plain": [
              "<matplotlib.axes._subplots.AxesSubplot at 0x7f4f422fa710>"
            ]
          },
          "metadata": {
            "tags": []
          },
          "execution_count": 59
        },
        {
          "output_type": "display_data",
          "data": {
            "image/png": "[encoded data removed]",
            "text/plain": [
              "<Figure size 720x720 with 3 Axes>"
            ]
          },
          "metadata": {
            "tags": [],
            "needs_background": "light"
          }
        }
      ]
    },
    {
      "cell_type": "code",
      "metadata": {
        "colab": {
          "base_uri": "https://localhost:8080/"
        },
        "id": "9QO9puye_MFh",
        "outputId": "47882e15-24ea-4bba-a349-4448759099d4"
      },
      "source": [
        "final.groupby([\"Topic\",\"year\"])[\"Facebook\"].mean()"
      ],
      "execution_count": null,
      "outputs": [
        {
          "output_type": "execute_result",
          "data": {
            "text/plain": [
              "Topic      year\n",
              "economy    2008     -1.000000\n",
              "           2012     -1.000000\n",
              "           2015     42.825634\n",
              "           2016     49.114775\n",
              "microsoft  2015     26.205533\n",
              "           2016     45.968372\n",
              "obama      2002     -1.000000\n",
              "           2015    438.567544\n",
              "           2016    280.551534\n",
              "palestine  2015     47.197080\n",
              "           2016     54.044625\n",
              "Name: Facebook, dtype: float64"
            ]
          },
          "metadata": {
            "tags": []
          },
          "execution_count": 65
        }
      ]
    },
    {
      "cell_type": "code",
      "metadata": {
        "colab": {
          "base_uri": "https://localhost:8080/",
          "height": 416
        },
        "id": "RascIfXxHCPJ",
        "outputId": "f5b88af0-2745-4691-c59a-0b0a2961f621"
      },
      "source": [
        "final.groupby([\"Topic\",\"year\"]).agg({\"Facebook\":max})"
      ],
      "execution_count": null,
      "outputs": [
        {
          "output_type": "execute_result",
          "data": {
            "text/html": [
              "<div>\n",
              "<style scoped>\n",
              "    .dataframe tbody tr th:only-of-type {\n",
              "        vertical-align: middle;\n",
              "    }\n",
              "\n",
              "    .dataframe tbody tr th {\n",
              "        vertical-align: top;\n",
              "    }\n",
              "\n",
              "    .dataframe thead th {\n",
              "        text-align: right;\n",
              "    }\n",
              "</style>\n",
              "<table border=\"1\" class=\"dataframe\">\n",
              "  <thead>\n",
              "    <tr style=\"text-align: right;\">\n",
              "      <th></th>\n",
              "      <th></th>\n",
              "      <th>Facebook</th>\n",
              "    </tr>\n",
              "    <tr>\n",
              "      <th>Topic</th>\n",
              "      <th>year</th>\n",
              "      <th></th>\n",
              "    </tr>\n",
              "  </thead>\n",
              "  <tbody>\n",
              "    <tr>\n",
              "      <th rowspan=\"4\" valign=\"top\">economy</th>\n",
              "      <th>2008</th>\n",
              "      <td>-1</td>\n",
              "    </tr>\n",
              "    <tr>\n",
              "      <th>2012</th>\n",
              "      <td>-1</td>\n",
              "    </tr>\n",
              "    <tr>\n",
              "      <th>2015</th>\n",
              "      <td>29564</td>\n",
              "    </tr>\n",
              "    <tr>\n",
              "      <th>2016</th>\n",
              "      <td>49211</td>\n",
              "    </tr>\n",
              "    <tr>\n",
              "      <th rowspan=\"2\" valign=\"top\">microsoft</th>\n",
              "      <th>2015</th>\n",
              "      <td>1788</td>\n",
              "    </tr>\n",
              "    <tr>\n",
              "      <th>2016</th>\n",
              "      <td>22346</td>\n",
              "    </tr>\n",
              "    <tr>\n",
              "      <th rowspan=\"3\" valign=\"top\">obama</th>\n",
              "      <th>2002</th>\n",
              "      <td>-1</td>\n",
              "    </tr>\n",
              "    <tr>\n",
              "      <th>2015</th>\n",
              "      <td>24594</td>\n",
              "    </tr>\n",
              "    <tr>\n",
              "      <th>2016</th>\n",
              "      <td>40836</td>\n",
              "    </tr>\n",
              "    <tr>\n",
              "      <th rowspan=\"2\" valign=\"top\">palestine</th>\n",
              "      <th>2015</th>\n",
              "      <td>7277</td>\n",
              "    </tr>\n",
              "    <tr>\n",
              "      <th>2016</th>\n",
              "      <td>8840</td>\n",
              "    </tr>\n",
              "  </tbody>\n",
              "</table>\n",
              "</div>"
            ],
            "text/plain": [
              "                Facebook\n",
              "Topic     year          \n",
              "economy   2008        -1\n",
              "          2012        -1\n",
              "          2015     29564\n",
              "          2016     49211\n",
              "microsoft 2015      1788\n",
              "          2016     22346\n",
              "obama     2002        -1\n",
              "          2015     24594\n",
              "          2016     40836\n",
              "palestine 2015      7277\n",
              "          2016      8840"
            ]
          },
          "metadata": {
            "tags": []
          },
          "execution_count": 162
        }
      ]
    },
    {
      "cell_type": "code",
      "metadata": {
        "colab": {
          "base_uri": "https://localhost:8080/",
          "height": 35
        },
        "id": "tcB7sG6QTEhl",
        "outputId": "a24dbef2-6b44-4af0-c9a1-ba1c5d77af6d"
      },
      "source": [
        "final[\"Headline\"][(final[\"Facebook\"] == 22346) & (final[\"Topic\"] == \"microsoft\") & (final[\"year\"] == 2016)].iloc[0]"
      ],
      "execution_count": null,
      "outputs": [
        {
          "output_type": "execute_result",
          "data": {
            "application/vnd.google.colaboratory.intrinsic+json": {
              "type": "string"
            },
            "text/plain": [
              "\"Developers at Microsoft created 'Tay', an AI modelled to speak 'like a teen girl', in order to improve the customer service on their voice\""
            ]
          },
          "metadata": {
            "tags": []
          },
          "execution_count": 166
        }
      ]
    },
    {
      "cell_type": "code",
      "metadata": {
        "colab": {
          "base_uri": "https://localhost:8080/",
          "height": 35
        },
        "id": "4CmRz56WSwrB",
        "outputId": "0460bd48-1dd7-48e7-d91c-0cb55e99d479"
      },
      "source": [
        "final[\"Headline\"][(final[\"LinkedIn\"] == 3652) & (final[\"Topic\"] == \"microsoft\") & (final[\"year\"] == 2016)].iloc[0]"
      ],
      "execution_count": null,
      "outputs": [
        {
          "output_type": "execute_result",
          "data": {
            "application/vnd.google.colaboratory.intrinsic+json": {
              "type": "string"
            },
            "text/plain": [
              "'REDMOND, Wash. \"\"\" Taking a page from Jules Verne, researchers at Microsoft believe the future of data centers may be under the sea.'"
            ]
          },
          "metadata": {
            "tags": []
          },
          "execution_count": 165
        }
      ]
    },
    {
      "cell_type": "code",
      "metadata": {
        "colab": {
          "base_uri": "https://localhost:8080/",
          "height": 35
        },
        "id": "d8Wf0wKkO2bw",
        "outputId": "7208e808-2ab5-44aa-ecc8-ca554de372a9"
      },
      "source": [
        "final[\"Headline\"][(final[\"GooglePlus\"] == 1001) & (final[\"Topic\"] == \"microsoft\") & (final[\"year\"] == 2016)].iloc[0]"
      ],
      "execution_count": null,
      "outputs": [
        {
          "output_type": "execute_result",
          "data": {
            "application/vnd.google.colaboratory.intrinsic+json": {
              "type": "string"
            },
            "text/plain": [
              "'For decades, this massive market has been dominated by two players, Apple and Microsoft. Before 2012, Google was a non-entity in the market'"
            ]
          },
          "metadata": {
            "tags": []
          },
          "execution_count": 164
        }
      ]
    },
    {
      "cell_type": "code",
      "metadata": {
        "colab": {
          "base_uri": "https://localhost:8080/",
          "height": 645
        },
        "id": "c3c8C7bTgjdW",
        "outputId": "950708d9-95e8-4242-be2a-b1bf7b0d9441"
      },
      "source": [
        "plt.figure(figsize=(12,8))\n",
        "\n",
        "plt.subplot(1,3,1)\n",
        "sns.barplot(\"year\",\"LinkedIn\",data=final)\n",
        "\n",
        "plt.subplot(1,3,2)\n",
        "sns.barplot(\"year\",\"GooglePlus\",data=final)\n",
        "\n",
        "plt.subplot(1,3,3)\n",
        "sns.barplot(\"year\",\"Facebook\",data=final)"
      ],
      "execution_count": null,
      "outputs": [
        {
          "output_type": "stream",
          "text": [
            "/usr/local/lib/python3.7/dist-packages/seaborn/_decorators.py:43: FutureWarning: Pass the following variables as keyword args: x, y. From version 0.12, the only valid positional argument will be `data`, and passing other arguments without an explicit keyword will result in an error or misinterpretation.\n",
            "  FutureWarning\n",
            "/usr/local/lib/python3.7/dist-packages/seaborn/_decorators.py:43: FutureWarning: Pass the following variables as keyword args: x, y. From version 0.12, the only valid positional argument will be `data`, and passing other arguments without an explicit keyword will result in an error or misinterpretation.\n",
            "  FutureWarning\n",
            "/usr/local/lib/python3.7/dist-packages/seaborn/_decorators.py:43: FutureWarning: Pass the following variables as keyword args: x, y. From version 0.12, the only valid positional argument will be `data`, and passing other arguments without an explicit keyword will result in an error or misinterpretation.\n",
            "  FutureWarning\n"
          ],
          "name": "stderr"
        },
        {
          "output_type": "execute_result",
          "data": {
            "text/plain": [
              "<matplotlib.axes._subplots.AxesSubplot at 0x7f072b0a5d10>"
            ]
          },
          "metadata": {
            "tags": []
          },
          "execution_count": 23
        },
        {
          "output_type": "display_data",
          "data": {
            "image/png": "[encoded data removed]",
            "text/plain": [
              "<Figure size 864x576 with 3 Axes>"
            ]
          },
          "metadata": {
            "tags": [],
            "needs_background": "light"
          }
        }
      ]
    },
    {
      "cell_type": "code",
      "metadata": {
        "colab": {
          "base_uri": "https://localhost:8080/",
          "height": 636
        },
        "id": "XvY0jjnblxJa",
        "outputId": "a0a5b05b-41e1-4cd4-db89-9dde363aac3c"
      },
      "source": [
        "plt.figure(figsize=(14,8))\n",
        "\n",
        "plt.subplot(1,3,1)\n",
        "sns.distplot(final[\"GooglePlus\"],kde=True)\n",
        "plt.subplot(1,3,2)\n",
        "sns.distplot(final[\"LinkedIn\"],kde=True)\n",
        "plt.subplot(1,3,3)\n",
        "sns.distplot(final[\"Facebook\"],kde=True)"
      ],
      "execution_count": null,
      "outputs": [
        {
          "output_type": "stream",
          "text": [
            "/usr/local/lib/python3.7/dist-packages/seaborn/distributions.py:2557: FutureWarning: `distplot` is a deprecated function and will be removed in a future version. Please adapt your code to use either `displot` (a figure-level function with similar flexibility) or `histplot` (an axes-level function for histograms).\n",
            "  warnings.warn(msg, FutureWarning)\n",
            "/usr/local/lib/python3.7/dist-packages/seaborn/distributions.py:2557: FutureWarning: `distplot` is a deprecated function and will be removed in a future version. Please adapt your code to use either `displot` (a figure-level function with similar flexibility) or `histplot` (an axes-level function for histograms).\n",
            "  warnings.warn(msg, FutureWarning)\n",
            "/usr/local/lib/python3.7/dist-packages/seaborn/distributions.py:2557: FutureWarning: `distplot` is a deprecated function and will be removed in a future version. Please adapt your code to use either `displot` (a figure-level function with similar flexibility) or `histplot` (an axes-level function for histograms).\n",
            "  warnings.warn(msg, FutureWarning)\n"
          ],
          "name": "stderr"
        },
        {
          "output_type": "execute_result",
          "data": {
            "text/plain": [
              "<matplotlib.axes._subplots.AxesSubplot at 0x7f4f44bdcb50>"
            ]
          },
          "metadata": {
            "tags": []
          },
          "execution_count": 55
        },
        {
          "output_type": "display_data",
          "data": {
            "image/png": "[encoded data removed]",
            "text/plain": [
              "<Figure size 1008x576 with 3 Axes>"
            ]
          },
          "metadata": {
            "tags": [],
            "needs_background": "light"
          }
        }
      ]
    },
    {
      "cell_type": "markdown",
      "metadata": {
        "id": "QK8gxkuAswW1"
      },
      "source": [
        "From these plots I can say that the three social media variables doesn't have normal distribution and all are right skewed distributions and Linear based ML Algorithms cannot be used for this type of data "
      ]
    },
    {
      "cell_type": "code",
      "metadata": {
        "colab": {
          "base_uri": "https://localhost:8080/",
          "height": 299
        },
        "id": "Kg2dz97Ic8Ml",
        "outputId": "725f37c0-722d-4069-c779-712e157020fe"
      },
      "source": [
        "final.describe()"
      ],
      "execution_count": null,
      "outputs": [
        {
          "output_type": "execute_result",
          "data": {
            "text/html": [
              "<div>\n",
              "<style scoped>\n",
              "    .dataframe tbody tr th:only-of-type {\n",
              "        vertical-align: middle;\n",
              "    }\n",
              "\n",
              "    .dataframe tbody tr th {\n",
              "        vertical-align: top;\n",
              "    }\n",
              "\n",
              "    .dataframe thead th {\n",
              "        text-align: right;\n",
              "    }\n",
              "</style>\n",
              "<table border=\"1\" class=\"dataframe\">\n",
              "  <thead>\n",
              "    <tr style=\"text-align: right;\">\n",
              "      <th></th>\n",
              "      <th>Facebook</th>\n",
              "      <th>GooglePlus</th>\n",
              "      <th>LinkedIn</th>\n",
              "      <th>SentimentTitle</th>\n",
              "      <th>SentimentHeadline</th>\n",
              "    </tr>\n",
              "  </thead>\n",
              "  <tbody>\n",
              "    <tr>\n",
              "      <th>count</th>\n",
              "      <td>55932.000000</td>\n",
              "      <td>55932.000000</td>\n",
              "      <td>55932.000000</td>\n",
              "      <td>55932.000000</td>\n",
              "      <td>55932.000000</td>\n",
              "    </tr>\n",
              "    <tr>\n",
              "      <th>mean</th>\n",
              "      <td>132.050329</td>\n",
              "      <td>4.551616</td>\n",
              "      <td>14.300132</td>\n",
              "      <td>-0.006318</td>\n",
              "      <td>-0.029577</td>\n",
              "    </tr>\n",
              "    <tr>\n",
              "      <th>std</th>\n",
              "      <td>722.931314</td>\n",
              "      <td>21.137177</td>\n",
              "      <td>76.651420</td>\n",
              "      <td>0.137569</td>\n",
              "      <td>0.143038</td>\n",
              "    </tr>\n",
              "    <tr>\n",
              "      <th>min</th>\n",
              "      <td>-1.000000</td>\n",
              "      <td>-1.000000</td>\n",
              "      <td>-1.000000</td>\n",
              "      <td>-0.838525</td>\n",
              "      <td>-0.755355</td>\n",
              "    </tr>\n",
              "    <tr>\n",
              "      <th>25%</th>\n",
              "      <td>0.000000</td>\n",
              "      <td>0.000000</td>\n",
              "      <td>0.000000</td>\n",
              "      <td>-0.079057</td>\n",
              "      <td>-0.116927</td>\n",
              "    </tr>\n",
              "    <tr>\n",
              "      <th>50%</th>\n",
              "      <td>6.000000</td>\n",
              "      <td>0.000000</td>\n",
              "      <td>0.000000</td>\n",
              "      <td>0.000000</td>\n",
              "      <td>-0.027277</td>\n",
              "    </tr>\n",
              "    <tr>\n",
              "      <th>75%</th>\n",
              "      <td>37.000000</td>\n",
              "      <td>2.000000</td>\n",
              "      <td>4.000000</td>\n",
              "      <td>0.063969</td>\n",
              "      <td>0.057354</td>\n",
              "    </tr>\n",
              "    <tr>\n",
              "      <th>max</th>\n",
              "      <td>49211.000000</td>\n",
              "      <td>1267.000000</td>\n",
              "      <td>3716.000000</td>\n",
              "      <td>0.962354</td>\n",
              "      <td>0.964646</td>\n",
              "    </tr>\n",
              "  </tbody>\n",
              "</table>\n",
              "</div>"
            ],
            "text/plain": [
              "           Facebook    GooglePlus  ...  SentimentTitle  SentimentHeadline\n",
              "count  55932.000000  55932.000000  ...    55932.000000       55932.000000\n",
              "mean     132.050329      4.551616  ...       -0.006318          -0.029577\n",
              "std      722.931314     21.137177  ...        0.137569           0.143038\n",
              "min       -1.000000     -1.000000  ...       -0.838525          -0.755355\n",
              "25%        0.000000      0.000000  ...       -0.079057          -0.116927\n",
              "50%        6.000000      0.000000  ...        0.000000          -0.027277\n",
              "75%       37.000000      2.000000  ...        0.063969           0.057354\n",
              "max    49211.000000   1267.000000  ...        0.962354           0.964646\n",
              "\n",
              "[8 rows x 5 columns]"
            ]
          },
          "metadata": {
            "tags": []
          },
          "execution_count": 13
        }
      ]
    },
    {
      "cell_type": "markdown",
      "metadata": {
        "id": "x9ROK6GGhzN1"
      },
      "source": [
        "From the above plot we can say that news on these 4 topics obama,economy,palestine,microsoft on different years in 3 social media platforms\n",
        "\n",
        "\n",
        "1.In LinkedIn platform News on these topics has less popularity in initial 3 years and highest popularity in 2016\n",
        "\n",
        "2.In GooglePlus platform News on these topics has less popularity in initial 3 years and highest popularity in 2015\n",
        "\n",
        "3.In Facebook platform News on these topics doesnt have negative score compared to others and popularity increased on the year 2015 \n"
      ]
    },
    {
      "cell_type": "code",
      "metadata": {
        "colab": {
          "base_uri": "https://localhost:8080/",
          "height": 590
        },
        "id": "VWWk0qIRsp4Y",
        "outputId": "d04f5f25-967f-4e99-b581-c61a363167ac"
      },
      "source": [
        "## Coorelation plot for the variables\n",
        "plt.figure(figsize=(8,8))\n",
        "sns.heatmap(final.corr(),annot=True,cmap=\"RdYlGn\")"
      ],
      "execution_count": null,
      "outputs": [
        {
          "output_type": "execute_result",
          "data": {
            "text/plain": [
              "<matplotlib.axes._subplots.AxesSubplot at 0x7f7ec37f4910>"
            ]
          },
          "metadata": {
            "tags": []
          },
          "execution_count": 215
        },
        {
          "output_type": "display_data",
          "data": {
            "image/png": "[encoded data removed]",
            "text/plain": [
              "<Figure size 576x576 with 2 Axes>"
            ]
          },
          "metadata": {
            "tags": [],
            "needs_background": "light"
          }
        }
      ]
    },
    {
      "cell_type": "code",
      "metadata": {
        "colab": {
          "base_uri": "https://localhost:8080/",
          "height": 263
        },
        "id": "x9QPAZjbHmD_",
        "outputId": "ad125b99-a02f-4b9b-f477-a52600846170"
      },
      "source": [
        "##The coorelation for the variables excluding Title and Headline\n",
        "final.corr()"
      ],
      "execution_count": null,
      "outputs": [
        {
          "output_type": "execute_result",
          "data": {
            "text/html": [
              "<div>\n",
              "<style scoped>\n",
              "    .dataframe tbody tr th:only-of-type {\n",
              "        vertical-align: middle;\n",
              "    }\n",
              "\n",
              "    .dataframe tbody tr th {\n",
              "        vertical-align: top;\n",
              "    }\n",
              "\n",
              "    .dataframe thead th {\n",
              "        text-align: right;\n",
              "    }\n",
              "</style>\n",
              "<table border=\"1\" class=\"dataframe\">\n",
              "  <thead>\n",
              "    <tr style=\"text-align: right;\">\n",
              "      <th></th>\n",
              "      <th>Facebook</th>\n",
              "      <th>GooglePlus</th>\n",
              "      <th>LinkedIn</th>\n",
              "      <th>SentimentTitle</th>\n",
              "      <th>SentimentHeadline</th>\n",
              "      <th>Source_encode_fe</th>\n",
              "      <th>year</th>\n",
              "    </tr>\n",
              "  </thead>\n",
              "  <tbody>\n",
              "    <tr>\n",
              "      <th>Facebook</th>\n",
              "      <td>1.000000</td>\n",
              "      <td>0.508933</td>\n",
              "      <td>0.132728</td>\n",
              "      <td>-0.003951</td>\n",
              "      <td>0.001465</td>\n",
              "      <td>0.050076</td>\n",
              "      <td>-0.017284</td>\n",
              "    </tr>\n",
              "    <tr>\n",
              "      <th>GooglePlus</th>\n",
              "      <td>0.508933</td>\n",
              "      <td>1.000000</td>\n",
              "      <td>0.244457</td>\n",
              "      <td>-0.011716</td>\n",
              "      <td>0.001181</td>\n",
              "      <td>0.045471</td>\n",
              "      <td>-0.013146</td>\n",
              "    </tr>\n",
              "    <tr>\n",
              "      <th>LinkedIn</th>\n",
              "      <td>0.132728</td>\n",
              "      <td>0.244457</td>\n",
              "      <td>1.000000</td>\n",
              "      <td>-0.002330</td>\n",
              "      <td>0.001248</td>\n",
              "      <td>0.102862</td>\n",
              "      <td>0.020454</td>\n",
              "    </tr>\n",
              "    <tr>\n",
              "      <th>SentimentTitle</th>\n",
              "      <td>-0.003951</td>\n",
              "      <td>-0.011716</td>\n",
              "      <td>-0.002330</td>\n",
              "      <td>1.000000</td>\n",
              "      <td>0.185584</td>\n",
              "      <td>-0.004934</td>\n",
              "      <td>0.011635</td>\n",
              "    </tr>\n",
              "    <tr>\n",
              "      <th>SentimentHeadline</th>\n",
              "      <td>0.001465</td>\n",
              "      <td>0.001181</td>\n",
              "      <td>0.001248</td>\n",
              "      <td>0.185584</td>\n",
              "      <td>1.000000</td>\n",
              "      <td>-0.011205</td>\n",
              "      <td>0.006896</td>\n",
              "    </tr>\n",
              "    <tr>\n",
              "      <th>Source_encode_fe</th>\n",
              "      <td>0.050076</td>\n",
              "      <td>0.045471</td>\n",
              "      <td>0.102862</td>\n",
              "      <td>-0.004934</td>\n",
              "      <td>-0.011205</td>\n",
              "      <td>1.000000</td>\n",
              "      <td>-0.002523</td>\n",
              "    </tr>\n",
              "    <tr>\n",
              "      <th>year</th>\n",
              "      <td>-0.017284</td>\n",
              "      <td>-0.013146</td>\n",
              "      <td>0.020454</td>\n",
              "      <td>0.011635</td>\n",
              "      <td>0.006896</td>\n",
              "      <td>-0.002523</td>\n",
              "      <td>1.000000</td>\n",
              "    </tr>\n",
              "  </tbody>\n",
              "</table>\n",
              "</div>"
            ],
            "text/plain": [
              "                   Facebook  GooglePlus  ...  Source_encode_fe      year\n",
              "Facebook           1.000000    0.508933  ...          0.050076 -0.017284\n",
              "GooglePlus         0.508933    1.000000  ...          0.045471 -0.013146\n",
              "LinkedIn           0.132728    0.244457  ...          0.102862  0.020454\n",
              "SentimentTitle    -0.003951   -0.011716  ...         -0.004934  0.011635\n",
              "SentimentHeadline  0.001465    0.001181  ...         -0.011205  0.006896\n",
              "Source_encode_fe   0.050076    0.045471  ...          1.000000 -0.002523\n",
              "year              -0.017284   -0.013146  ...         -0.002523  1.000000\n",
              "\n",
              "[7 rows x 7 columns]"
            ]
          },
          "metadata": {
            "tags": []
          },
          "execution_count": 26
        }
      ]
    },
    {
      "cell_type": "markdown",
      "metadata": {
        "id": "q22RLmrXPvBX"
      },
      "source": [
        "From the above coorelation plot we can say that none of the variable is strongly coorelated to the Sentiment Title and Sentiment Headline variable which are Target Variables\n",
        "\n",
        "None of the variable is atleast 50% coorelated to the target variables and Sentiment Title is having better contribution to Sentiment Headline compared to the independent variables\n",
        "\n",
        "Also except the year column all are negatively coorelated to Sentiment Title variable\n",
        "\n",
        "Except Source_code_fe variable all are positvely coorelated to Sentiment Headline variable\n"
      ]
    },
    {
      "cell_type": "code",
      "metadata": {
        "id": "K_ndAYwTNs4F"
      },
      "source": [
        "##Adding the Sentiment Title and Sentiment Headline column to y dataframe\n",
        "y = pd.DataFrame({\"SentimentTitle\":final[\"SentimentTitle\"],\"SentimentHeadline\":final[\"SentimentHeadline\"]})"
      ],
      "execution_count": null,
      "outputs": []
    },
    {
      "cell_type": "markdown",
      "metadata": {
        "id": "lZjXBdq7td8o"
      },
      "source": [
        "##Handling the Topic Column"
      ]
    },
    {
      "cell_type": "markdown",
      "metadata": {
        "id": "6yz0_SAativJ"
      },
      "source": [
        "As this column only has 4 labels namely economy , obama , palestine , microsoft\n",
        "\n",
        "I applied One Hot encoding and removed one column so there is no dependency which means I avoided the Dummy variable trap and it is also a good practice to remove the dependencies in the dataset and for this column one hot encoding is the best technique as it not the ordinal data and equal importance is give to each category and also have only 4 categories"
      ]
    },
    {
      "cell_type": "code",
      "metadata": {
        "id": "LL72692A9mQt"
      },
      "source": [
        "##One hot Encoding for the variable Topic\n",
        "df = pd.get_dummies(final[\"Topic\"],columns=[\"Topic\"],prefix=\"Topics\",drop_first = True)\n",
        "final = pd.concat([final,df],axis=1)"
      ],
      "execution_count": null,
      "outputs": []
    },
    {
      "cell_type": "code",
      "metadata": {
        "colab": {
          "base_uri": "https://localhost:8080/"
        },
        "id": "AZSlsbUlMb7H",
        "outputId": "0d30dadc-d910-40e7-ee9e-9f28e4169491"
      },
      "source": [
        "final.columns"
      ],
      "execution_count": null,
      "outputs": [
        {
          "output_type": "execute_result",
          "data": {
            "text/plain": [
              "Index(['IDLink', 'Title', 'Headline', 'Source', 'Topic', 'PublishDate',\n",
              "       'Facebook', 'GooglePlus', 'LinkedIn', 'SentimentTitle',\n",
              "       'SentimentHeadline', 'Source_encode_fe', 'Bloomberg', 'Reuters',\n",
              "       'ABC News', 'New York Times', 'The Guardian', 'Business Insider',\n",
              "       'Forbes', 'Economic Times', 'CNN', 'WinBeta', 'datetime', 'year',\n",
              "       'Topics_microsoft', 'Topics_obama', 'Topics_palestine'],\n",
              "      dtype='object')"
            ]
          },
          "metadata": {
            "tags": []
          },
          "execution_count": 74
        }
      ]
    },
    {
      "cell_type": "code",
      "metadata": {
        "id": "C-3bj8JyBXWg"
      },
      "source": [
        ""
      ],
      "execution_count": null,
      "outputs": []
    },
    {
      "cell_type": "markdown",
      "metadata": {
        "id": "Htk1c6aGuDQq"
      },
      "source": [
        "##Handling the Title and Headline column"
      ]
    },
    {
      "cell_type": "markdown",
      "metadata": {
        "id": "UMqQHP8YuHLx"
      },
      "source": [
        "As these are two main columns which talk about the title and headline of the news and for encoding these columns I have used \n",
        "\n",
        "-Hash encoding\n",
        "\n",
        "Hashing is where we perform the Hashing operation i.e we generate the hash value for an input.\n",
        "It is best technique and also powerful technique which is widely used when cardinality of categories is high and here we have the flexibilty of choosing the no of columns to represent the data.\n",
        "\n",
        "Ex: We can represent feature with 100 categories using N features where N is of our choice it can be even 1 also\n",
        "\n",
        "-Word2Vec\n",
        "\n",
        "Initially I used NLP technique such as Word2Vec for handling these 2 columns.This actually can obtain the semantic information but this actually lead to a dimensional error compared to other columns. So ignored this approach\n"
      ]
    },
    {
      "cell_type": "code",
      "metadata": {
        "id": "oRScP_o1J7Ww"
      },
      "source": [
        "title = pd.DataFrame({\"Title\":final[\"Title\"],\"Headline\":final[\"Headline\"]})"
      ],
      "execution_count": null,
      "outputs": []
    },
    {
      "cell_type": "code",
      "metadata": {
        "id": "AyCIL09cD_fF",
        "colab": {
          "base_uri": "https://localhost:8080/"
        },
        "outputId": "e4137d9f-ce4b-4fb2-bb51-a30b3efb4215"
      },
      "source": [
        "##Hash Encoding for the variable \n",
        "##Handling the Title and Headline Column\n",
        "\n",
        "import category_encoders as ce\n",
        "encoder = ce.HashingEncoder(cols=[\"Title\",\"Headline\"],n_components= 20)\n",
        "title = encoder.fit_transform(title)\n",
        "\n",
        "#Representing the Title and Headline columns using 20 features\n",
        "final = pd.concat([final,title],axis = 1)"
      ],
      "execution_count": null,
      "outputs": [
        {
          "output_type": "stream",
          "text": [
            "/usr/local/lib/python3.7/dist-packages/category_encoders/utils.py:21: FutureWarning: is_categorical is deprecated and will be removed in a future version.  Use is_categorical_dtype instead\n",
            "  elif pd.api.types.is_categorical(cols):\n"
          ],
          "name": "stderr"
        }
      ]
    },
    {
      "cell_type": "code",
      "metadata": {
        "colab": {
          "base_uri": "https://localhost:8080/",
          "height": 205
        },
        "id": "uk5V0q9LOyvu",
        "outputId": "7a155ed4-0dda-40c3-b0a3-9047d64dd778"
      },
      "source": [
        "##First five rows of the y DataFrame\n",
        "y.head()"
      ],
      "execution_count": null,
      "outputs": [
        {
          "output_type": "execute_result",
          "data": {
            "text/html": [
              "<div>\n",
              "<style scoped>\n",
              "    .dataframe tbody tr th:only-of-type {\n",
              "        vertical-align: middle;\n",
              "    }\n",
              "\n",
              "    .dataframe tbody tr th {\n",
              "        vertical-align: top;\n",
              "    }\n",
              "\n",
              "    .dataframe thead th {\n",
              "        text-align: right;\n",
              "    }\n",
              "</style>\n",
              "<table border=\"1\" class=\"dataframe\">\n",
              "  <thead>\n",
              "    <tr style=\"text-align: right;\">\n",
              "      <th></th>\n",
              "      <th>SentimentTitle</th>\n",
              "      <th>SentimentHeadline</th>\n",
              "    </tr>\n",
              "  </thead>\n",
              "  <tbody>\n",
              "    <tr>\n",
              "      <th>0</th>\n",
              "      <td>0.000000</td>\n",
              "      <td>-0.053300</td>\n",
              "    </tr>\n",
              "    <tr>\n",
              "      <th>1</th>\n",
              "      <td>0.208333</td>\n",
              "      <td>-0.156386</td>\n",
              "    </tr>\n",
              "    <tr>\n",
              "      <th>2</th>\n",
              "      <td>-0.425210</td>\n",
              "      <td>0.139754</td>\n",
              "    </tr>\n",
              "    <tr>\n",
              "      <th>3</th>\n",
              "      <td>0.000000</td>\n",
              "      <td>0.026064</td>\n",
              "    </tr>\n",
              "    <tr>\n",
              "      <th>4</th>\n",
              "      <td>0.000000</td>\n",
              "      <td>0.141084</td>\n",
              "    </tr>\n",
              "  </tbody>\n",
              "</table>\n",
              "</div>"
            ],
            "text/plain": [
              "   SentimentTitle  SentimentHeadline\n",
              "0        0.000000          -0.053300\n",
              "1        0.208333          -0.156386\n",
              "2       -0.425210           0.139754\n",
              "3        0.000000           0.026064\n",
              "4        0.000000           0.141084"
            ]
          },
          "metadata": {
            "tags": []
          },
          "execution_count": 77
        }
      ]
    },
    {
      "cell_type": "markdown",
      "metadata": {
        "id": "ihcBrb3jwPXz"
      },
      "source": [
        "##Handling the Social media columns\n",
        "Facebook,LinkedIn and GooglePlus\n",
        "\n",
        "These mainly represent the effect of the news in that particular platform and I have applied a transformation such as Relu Activation function\n",
        "\n",
        "When value is less than 1 make it as 0 and greater than 1 then keep it same and this Relu is very much used in Deep Learning and also faster and this also makes all negative values to 0\n",
        "\n",
        "if x < 1:\n",
        "  x = 0\n",
        "\n",
        "else:\n",
        "  x\n",
        "\n",
        "But this method made a little decline in the score so I have ignored it"
      ]
    },
    {
      "cell_type": "code",
      "metadata": {
        "id": "rJoFF29ighCv"
      },
      "source": [
        "'''\n",
        "##Handling the Social Media Columns\n",
        "final[\"Facebook\"] = final[\"Facebook\"].apply(lambda x : 0 if x < 0 else x)\n",
        "final[\"GooglePlus\"] = final[\"GooglePlus\"].apply(lambda x : 0 if x < 0 else x)\n",
        "final[\"LinkedIn\"] = final[\"LinkedIn\"].apply(lambda x : 0 if x < 0 else x)\n",
        "'''"
      ],
      "execution_count": null,
      "outputs": []
    },
    {
      "cell_type": "code",
      "metadata": {
        "id": "Gne2JcVW51JZ"
      },
      "source": [
        "##Removing the columns after transformations applied to them\n",
        "final.drop([\"IDLink\",\"Source\",\"PublishDate\",\"datetime\",\"Topic\",\"Title\",\"Headline\"],axis=1,inplace=True)"
      ],
      "execution_count": null,
      "outputs": []
    },
    {
      "cell_type": "code",
      "metadata": {
        "id": "xSNuFQ6kdzPI"
      },
      "source": [
        "final.drop([\"SentimentTitle\",\"SentimentHeadline\"],axis=1,inplace=True)"
      ],
      "execution_count": null,
      "outputs": []
    },
    {
      "cell_type": "code",
      "metadata": {
        "colab": {
          "base_uri": "https://localhost:8080/"
        },
        "id": "pyLMvJ0GdPCe",
        "outputId": "96120456-151b-41d5-fc5b-9475cc98a1eb"
      },
      "source": [
        "#All the columns from col_1 to col_19 are hash encoded columns for Title and Headline\n",
        "final.columns"
      ],
      "execution_count": null,
      "outputs": [
        {
          "output_type": "execute_result",
          "data": {
            "text/plain": [
              "Index(['Facebook', 'GooglePlus', 'LinkedIn', 'Source_encode_fe', 'year',\n",
              "       'Topics_microsoft', 'Topics_obama', 'Topics_palestine', 'col_0',\n",
              "       'col_1', 'col_2', 'col_3', 'col_4', 'col_5', 'col_6', 'col_7', 'col_8',\n",
              "       'col_9', 'col_10', 'col_11', 'col_12', 'col_13', 'col_14', 'col_15',\n",
              "       'col_16', 'col_17', 'col_18', 'col_19'],\n",
              "      dtype='object')"
            ]
          },
          "metadata": {
            "tags": []
          },
          "execution_count": 58
        }
      ]
    },
    {
      "cell_type": "code",
      "metadata": {
        "id": "HaLhASNzdZzN"
      },
      "source": [
        "final.shape"
      ],
      "execution_count": null,
      "outputs": []
    },
    {
      "cell_type": "markdown",
      "metadata": {
        "id": "1A6A6uuASnAV"
      },
      "source": [
        "I didnt perform Feature Selection as the No of Columns in this data is 11 and some of the columns are categorical and one is datetime"
      ]
    },
    {
      "cell_type": "markdown",
      "metadata": {
        "id": "8uiB9O85-9Qk"
      },
      "source": [
        "##CatBoost Regressor"
      ]
    },
    {
      "cell_type": "markdown",
      "metadata": {
        "id": "Hs31eYa62HUr"
      },
      "source": [
        "I have used the CatBoost Regressor and I created 2 models as I have two output variables and we can say that Title and Headline are related to each other. Headline is nothing but more description of the Title\n",
        "\n",
        "So initially I created a model for Sentiment Title and\n",
        "\n",
        "For the 2nd Model I have added the Sentiment Title column also for creating model for Sentiment Headline variable as Sentiment Title is contributing more to the Sentiment Headline compared to independent variables and this is known from coorelation so adding this column increased score"
      ]
    },
    {
      "cell_type": "code",
      "metadata": {
        "id": "q7GUiLQkhM7O"
      },
      "source": [
        "from catboost import CatBoostRegressor\n",
        "\n",
        "ctb = CatBoostRegressor(iterations=2000)\n",
        "ctb.fit(final,y[\"SentimentTitle\"])"
      ],
      "execution_count": null,
      "outputs": []
    },
    {
      "cell_type": "code",
      "metadata": {
        "id": "9ppkU66acyHQ"
      },
      "source": [
        "## I have used iterations as 2000 as the final value but initially used the default value and increased to 1000 , 1500 , 2000 and 2,500\n",
        "## When it is 2,500 there is overfitting issue so I have reduced it back to 2,000 as it gave best score compared to other scores\n",
        "\n",
        "\n",
        "from catboost import CatBoostRegressor\n",
        "\n",
        "ctb = CatBoostRegressor(iterations=2000)\n",
        "ctb.fit(final,y[\"SentimentTitle\"])\n",
        "\n",
        "final[\"SentimentTitle\"] = y[\"SentimentTitle\"]\n",
        "\n",
        "ctb1 = CatBoostRegressor(iterations=2000)\n",
        "ctb1.fit(final,y[\"SentimentHeadline\"])"
      ],
      "execution_count": null,
      "outputs": []
    },
    {
      "cell_type": "code",
      "metadata": {
        "id": "i4O1io6jQKHn"
      },
      "source": [
        "#Here I have added the Sentiment Title column for the 2nd model\n",
        "final[\"SentimentTitle\"] = y[\"SentimentTitle\"]"
      ],
      "execution_count": null,
      "outputs": []
    },
    {
      "cell_type": "code",
      "metadata": {
        "id": "X6-xNdNLdAKY"
      },
      "source": [
        "ctb1 = CatBoostRegressor(iterations=2000)\n",
        "ctb1.fit(final,y[\"SentimentHeadline\"])"
      ],
      "execution_count": null,
      "outputs": []
    },
    {
      "cell_type": "code",
      "metadata": {
        "id": "MEgmnQTLgK8a"
      },
      "source": [
        "final.drop(\"SentimentTitle\",axis=1,inplace=True)"
      ],
      "execution_count": null,
      "outputs": []
    },
    {
      "cell_type": "markdown",
      "metadata": {
        "id": "uAl4kYWi_K87"
      },
      "source": [
        "##XGBoost"
      ]
    },
    {
      "cell_type": "markdown",
      "metadata": {
        "id": "VggCiosM3DTL"
      },
      "source": [
        "I have also used the XGBoost in the same manner and this gave a decline in the score compared to CatBoost Regressor for different values of estiamtors.So I have ignored this approach"
      ]
    },
    {
      "cell_type": "markdown",
      "metadata": {
        "id": "ZBfosajhQrTZ"
      },
      "source": [
        "##Test Data"
      ]
    },
    {
      "cell_type": "markdown",
      "metadata": {
        "id": "jMoJEJ1Myi16"
      },
      "source": [
        "All the Feature Engineering done on the Train data has been done for the test data in the same order so that there will be no feature mismatch while forming the final test set"
      ]
    },
    {
      "cell_type": "code",
      "metadata": {
        "id": "WnGkpBvjPJxF"
      },
      "source": [
        "#Reading the test data\n",
        "test_data = pd.read_csv(\"/content/drive/MyDrive/sentiment_dataset/test_file.csv\")"
      ],
      "execution_count": null,
      "outputs": []
    },
    {
      "cell_type": "code",
      "metadata": {
        "id": "MwwpiovnsEHB"
      },
      "source": [
        "##This is stored for the future use\n",
        "IDLink = test_data[\"IDLink\"]"
      ],
      "execution_count": null,
      "outputs": []
    },
    {
      "cell_type": "code",
      "metadata": {
        "id": "qsCuzzrlXj15"
      },
      "source": [
        "##Handling the Source Column\n",
        "\n",
        "##Impute null value using the mode of the Source column\n",
        "mode1 = test_data[\"Source\"].mode()[0]\n",
        "test_data[\"Source\"] = test_data[\"Source\"].fillna(mode1)\n",
        "\n",
        "\n",
        "##Encoding with the Frequency encoding for Source Variable\n",
        "fe1 = test_data.groupby(\"Source\").size()/len(test_data)\n",
        "test_data.loc[:,\"Source_encode_fe\"] = test_data[\"Source\"].map(fe1)"
      ],
      "execution_count": null,
      "outputs": []
    },
    {
      "cell_type": "code",
      "metadata": {
        "id": "e3ytF96xu76r"
      },
      "source": [
        "##Handling the Datetime column\n",
        "\n",
        "test_data[\"datetime\"] = pd.to_datetime(test_data[\"PublishDate\"])\n",
        "\n",
        "test_data[\"year\"] = test_data[\"datetime\"].dt.year"
      ],
      "execution_count": null,
      "outputs": []
    },
    {
      "cell_type": "code",
      "metadata": {
        "id": "iQovUyQ3Q01c"
      },
      "source": [
        "##Handling the Topic column\n",
        "\n",
        "df1 = pd.get_dummies(test_data[\"Topic\"],columns=[\"Topic\"],prefix=\"Topics\",drop_first = True)\n",
        "test_data = pd.concat([test_data,df1],axis=1)"
      ],
      "execution_count": null,
      "outputs": []
    },
    {
      "cell_type": "code",
      "metadata": {
        "id": "kj68yRpfS2T8"
      },
      "source": [
        "##Handling the Title and Headline column\n",
        "\n",
        "title1 = pd.DataFrame({\"Title\":test_data[\"Title\"],\"Headline\":test_data[\"Headline\"]})\n",
        "title1 = encoder.transform(title1)\n",
        "test_data = pd.concat([test_data,title1],axis=1)"
      ],
      "execution_count": null,
      "outputs": []
    },
    {
      "cell_type": "code",
      "metadata": {
        "id": "OQ3uGCPt36q-"
      },
      "source": [
        "##Dropping the unnecessary columns\n",
        "test_data.drop([\"IDLink\",\"Source\",\"PublishDate\",\"datetime\",\"Topic\",\"Title\",\"Headline\"],axis=1,inplace=True)"
      ],
      "execution_count": null,
      "outputs": []
    },
    {
      "cell_type": "markdown",
      "metadata": {
        "id": "Z17W13w-ezn6"
      },
      "source": [
        "This is same transformation done in the training set as this has little decline in the performance I have ignored it and this I thought of making it as Relu and even in ANN this is used. Here I wanted to make negative values to 0 and positive to same values so there will be no negative values"
      ]
    },
    {
      "cell_type": "code",
      "metadata": {
        "id": "4OadSudCjqtK"
      },
      "source": [
        "'''\n",
        "test_data[\"Facebook\"] = test_data[\"Facebook\"].apply(lambda x : 0 if x < 1 else x)\n",
        "test_data[\"GooglePlus\"] = test_data[\"GooglePlus\"].apply(lambda x : 0 if x < 1 else x)\n",
        "test_data[\"LinkedIn\"] = test_data[\"LinkedIn\"].apply(lambda x : 0 if x < 1 else x)\n",
        "'''"
      ],
      "execution_count": null,
      "outputs": []
    },
    {
      "cell_type": "code",
      "metadata": {
        "colab": {
          "base_uri": "https://localhost:8080/",
          "height": 225
        },
        "id": "CkAxBu_oI8ar",
        "outputId": "ddefbd35-6240-404f-8b01-4aded8ab4678"
      },
      "source": [
        "test_data.head()"
      ],
      "execution_count": null,
      "outputs": [
        {
          "output_type": "execute_result",
          "data": {
            "text/html": [
              "<div>\n",
              "<style scoped>\n",
              "    .dataframe tbody tr th:only-of-type {\n",
              "        vertical-align: middle;\n",
              "    }\n",
              "\n",
              "    .dataframe tbody tr th {\n",
              "        vertical-align: top;\n",
              "    }\n",
              "\n",
              "    .dataframe thead th {\n",
              "        text-align: right;\n",
              "    }\n",
              "</style>\n",
              "<table border=\"1\" class=\"dataframe\">\n",
              "  <thead>\n",
              "    <tr style=\"text-align: right;\">\n",
              "      <th></th>\n",
              "      <th>Facebook</th>\n",
              "      <th>GooglePlus</th>\n",
              "      <th>LinkedIn</th>\n",
              "      <th>Source_encode_fe</th>\n",
              "      <th>year</th>\n",
              "      <th>Topics_microsoft</th>\n",
              "      <th>Topics_obama</th>\n",
              "      <th>Topics_palestine</th>\n",
              "      <th>col_0</th>\n",
              "      <th>col_1</th>\n",
              "      <th>col_2</th>\n",
              "      <th>col_3</th>\n",
              "      <th>col_4</th>\n",
              "      <th>col_5</th>\n",
              "      <th>col_6</th>\n",
              "      <th>col_7</th>\n",
              "      <th>col_8</th>\n",
              "      <th>col_9</th>\n",
              "      <th>col_10</th>\n",
              "      <th>col_11</th>\n",
              "      <th>col_12</th>\n",
              "      <th>col_13</th>\n",
              "      <th>col_14</th>\n",
              "      <th>col_15</th>\n",
              "      <th>col_16</th>\n",
              "      <th>col_17</th>\n",
              "      <th>col_18</th>\n",
              "      <th>col_19</th>\n",
              "    </tr>\n",
              "  </thead>\n",
              "  <tbody>\n",
              "    <tr>\n",
              "      <th>0</th>\n",
              "      <td>0</td>\n",
              "      <td>0</td>\n",
              "      <td>1</td>\n",
              "      <td>0.000429</td>\n",
              "      <td>2016</td>\n",
              "      <td>0</td>\n",
              "      <td>0</td>\n",
              "      <td>0</td>\n",
              "      <td>0</td>\n",
              "      <td>1</td>\n",
              "      <td>0</td>\n",
              "      <td>0</td>\n",
              "      <td>0</td>\n",
              "      <td>0</td>\n",
              "      <td>0</td>\n",
              "      <td>0</td>\n",
              "      <td>0</td>\n",
              "      <td>0</td>\n",
              "      <td>0</td>\n",
              "      <td>0</td>\n",
              "      <td>0</td>\n",
              "      <td>1</td>\n",
              "      <td>0</td>\n",
              "      <td>0</td>\n",
              "      <td>0</td>\n",
              "      <td>0</td>\n",
              "      <td>0</td>\n",
              "      <td>0</td>\n",
              "    </tr>\n",
              "    <tr>\n",
              "      <th>1</th>\n",
              "      <td>121</td>\n",
              "      <td>2</td>\n",
              "      <td>13</td>\n",
              "      <td>0.006570</td>\n",
              "      <td>2016</td>\n",
              "      <td>1</td>\n",
              "      <td>0</td>\n",
              "      <td>0</td>\n",
              "      <td>0</td>\n",
              "      <td>0</td>\n",
              "      <td>0</td>\n",
              "      <td>0</td>\n",
              "      <td>0</td>\n",
              "      <td>1</td>\n",
              "      <td>0</td>\n",
              "      <td>0</td>\n",
              "      <td>0</td>\n",
              "      <td>0</td>\n",
              "      <td>0</td>\n",
              "      <td>0</td>\n",
              "      <td>0</td>\n",
              "      <td>0</td>\n",
              "      <td>0</td>\n",
              "      <td>0</td>\n",
              "      <td>1</td>\n",
              "      <td>0</td>\n",
              "      <td>0</td>\n",
              "      <td>0</td>\n",
              "    </tr>\n",
              "    <tr>\n",
              "      <th>2</th>\n",
              "      <td>12</td>\n",
              "      <td>1</td>\n",
              "      <td>0</td>\n",
              "      <td>0.000080</td>\n",
              "      <td>2016</td>\n",
              "      <td>1</td>\n",
              "      <td>0</td>\n",
              "      <td>0</td>\n",
              "      <td>0</td>\n",
              "      <td>0</td>\n",
              "      <td>0</td>\n",
              "      <td>0</td>\n",
              "      <td>0</td>\n",
              "      <td>0</td>\n",
              "      <td>0</td>\n",
              "      <td>0</td>\n",
              "      <td>0</td>\n",
              "      <td>0</td>\n",
              "      <td>0</td>\n",
              "      <td>0</td>\n",
              "      <td>0</td>\n",
              "      <td>0</td>\n",
              "      <td>0</td>\n",
              "      <td>0</td>\n",
              "      <td>2</td>\n",
              "      <td>0</td>\n",
              "      <td>0</td>\n",
              "      <td>0</td>\n",
              "    </tr>\n",
              "    <tr>\n",
              "      <th>3</th>\n",
              "      <td>0</td>\n",
              "      <td>0</td>\n",
              "      <td>3</td>\n",
              "      <td>0.002414</td>\n",
              "      <td>2016</td>\n",
              "      <td>0</td>\n",
              "      <td>0</td>\n",
              "      <td>0</td>\n",
              "      <td>0</td>\n",
              "      <td>0</td>\n",
              "      <td>0</td>\n",
              "      <td>0</td>\n",
              "      <td>0</td>\n",
              "      <td>0</td>\n",
              "      <td>0</td>\n",
              "      <td>0</td>\n",
              "      <td>0</td>\n",
              "      <td>0</td>\n",
              "      <td>0</td>\n",
              "      <td>0</td>\n",
              "      <td>0</td>\n",
              "      <td>1</td>\n",
              "      <td>0</td>\n",
              "      <td>0</td>\n",
              "      <td>0</td>\n",
              "      <td>0</td>\n",
              "      <td>0</td>\n",
              "      <td>1</td>\n",
              "    </tr>\n",
              "    <tr>\n",
              "      <th>4</th>\n",
              "      <td>3</td>\n",
              "      <td>0</td>\n",
              "      <td>0</td>\n",
              "      <td>0.001234</td>\n",
              "      <td>2016</td>\n",
              "      <td>0</td>\n",
              "      <td>0</td>\n",
              "      <td>0</td>\n",
              "      <td>0</td>\n",
              "      <td>0</td>\n",
              "      <td>1</td>\n",
              "      <td>0</td>\n",
              "      <td>0</td>\n",
              "      <td>0</td>\n",
              "      <td>0</td>\n",
              "      <td>1</td>\n",
              "      <td>0</td>\n",
              "      <td>0</td>\n",
              "      <td>0</td>\n",
              "      <td>0</td>\n",
              "      <td>0</td>\n",
              "      <td>0</td>\n",
              "      <td>0</td>\n",
              "      <td>0</td>\n",
              "      <td>0</td>\n",
              "      <td>0</td>\n",
              "      <td>0</td>\n",
              "      <td>0</td>\n",
              "    </tr>\n",
              "  </tbody>\n",
              "</table>\n",
              "</div>"
            ],
            "text/plain": [
              "   Facebook  GooglePlus  LinkedIn  ...  col_17  col_18  col_19\n",
              "0         0           0         1  ...       0       0       0\n",
              "1       121           2        13  ...       0       0       0\n",
              "2        12           1         0  ...       0       0       0\n",
              "3         0           0         3  ...       0       0       1\n",
              "4         3           0         0  ...       0       0       0\n",
              "\n",
              "[5 rows x 28 columns]"
            ]
          },
          "metadata": {
            "tags": []
          },
          "execution_count": 73
        }
      ]
    },
    {
      "cell_type": "code",
      "metadata": {
        "colab": {
          "base_uri": "https://localhost:8080/"
        },
        "id": "5aTuYbw_eplz",
        "outputId": "cf0aa837-5022-4b86-b647-7ca0156c0426"
      },
      "source": [
        "test_data.shape"
      ],
      "execution_count": null,
      "outputs": [
        {
          "output_type": "execute_result",
          "data": {
            "text/plain": [
              "(37288, 28)"
            ]
          },
          "metadata": {
            "tags": []
          },
          "execution_count": 74
        }
      ]
    },
    {
      "cell_type": "markdown",
      "metadata": {
        "id": "d8mRsqyhnhGE"
      },
      "source": [
        "##Prediction for the Test Data"
      ]
    },
    {
      "cell_type": "code",
      "metadata": {
        "id": "dqoNPuCiWbtg"
      },
      "source": [
        "title_predict = ctb.predict(test_data)"
      ],
      "execution_count": null,
      "outputs": []
    },
    {
      "cell_type": "markdown",
      "metadata": {
        "id": "eaaHk79F3fSt"
      },
      "source": [
        "Displaying the pediction for first 5 records"
      ]
    },
    {
      "cell_type": "code",
      "metadata": {
        "colab": {
          "base_uri": "https://localhost:8080/"
        },
        "id": "N5Qse4RgWlaD",
        "outputId": "074bb0f6-8530-4659-b449-a54a5521471e"
      },
      "source": [
        "title_predict[0:5]"
      ],
      "execution_count": null,
      "outputs": [
        {
          "output_type": "execute_result",
          "data": {
            "text/plain": [
              "array([-0.02734718,  0.00011355,  0.01141025,  0.00604574, -0.01273348])"
            ]
          },
          "metadata": {
            "tags": []
          },
          "execution_count": 76
        }
      ]
    },
    {
      "cell_type": "code",
      "metadata": {
        "id": "xgtqQYvgQwX2"
      },
      "source": [
        "##Here I am adding the predicted Sentiment Title column to the data as it has more contribution to the Sentiment Headline and very much useful for prediction\n",
        "test_data[\"SentimentTitle\"] = title_predict"
      ],
      "execution_count": null,
      "outputs": []
    },
    {
      "cell_type": "code",
      "metadata": {
        "id": "jM2TfBEiYTJk"
      },
      "source": [
        "headlines_predict = ctb1.predict(test_data)"
      ],
      "execution_count": null,
      "outputs": []
    },
    {
      "cell_type": "code",
      "metadata": {
        "id": "mpEHb7jRY8lg",
        "colab": {
          "base_uri": "https://localhost:8080/"
        },
        "outputId": "72917553-8a73-42e8-c778-899c947457e4"
      },
      "source": [
        "headlines_predict[0:5]"
      ],
      "execution_count": null,
      "outputs": [
        {
          "output_type": "execute_result",
          "data": {
            "text/plain": [
              "array([-8.47971931e-02,  4.87328967e-05, -1.00298989e-02, -4.74353864e-02,\n",
              "       -3.95897767e-02])"
            ]
          },
          "metadata": {
            "tags": []
          },
          "execution_count": 79
        }
      ]
    },
    {
      "cell_type": "code",
      "metadata": {
        "id": "5YSkA0yIjPSv"
      },
      "source": [
        "test_data.drop(\"SentimentTitle\",axis=1,inplace=True)"
      ],
      "execution_count": null,
      "outputs": []
    },
    {
      "cell_type": "code",
      "metadata": {
        "id": "WOjh3558qrNk"
      },
      "source": [
        "##Submission using the CatBoost Regressor\n",
        "submit= pd.DataFrame(columns=[\"IDLink\",\"SentimentTitle\",\"SentimentHeadline\"])\n",
        "submit[\"IDLink\"] = IDLink\n",
        "submit[\"SentimentTitle\"] = title_predict\n",
        "submit[\"SentimentHeadline\"] = headlines_predict\n",
        "submit.to_csv(\"sample_submission_catboost.csv\",index=False)"
      ],
      "execution_count": null,
      "outputs": []
    },
    {
      "cell_type": "markdown",
      "metadata": {
        "id": "pRcgEr3Bc9s2"
      },
      "source": [
        "##ANN"
      ]
    },
    {
      "cell_type": "markdown",
      "metadata": {
        "id": "fID9Lr1SzHZb"
      },
      "source": [
        "I have used the Artificial Neural Networks as the data consists of 55,932 rows\n",
        "\n",
        "It also gives better score when we have more data\n",
        "\n",
        "Finds the useful features in the dataset and can find the complex patterns in the dataset and give better results.\n",
        "\n",
        "It is very much powerful technique and used widely in many real world scenarios"
      ]
    },
    {
      "cell_type": "code",
      "metadata": {
        "id": "jpGeb4EzaSJN"
      },
      "source": [
        "#Importing the libraries\n",
        "from tensorflow import keras\n",
        "from keras.models import Sequential\n",
        "from keras.layers import Dense"
      ],
      "execution_count": null,
      "outputs": []
    },
    {
      "cell_type": "code",
      "metadata": {
        "id": "UfX5pbGYTvlp"
      },
      "source": [
        "## These two data frames are used for the ANN train,test and used .copy() so that these changes wont get reflected back \n",
        "ann_train = final.copy()\n",
        "ann_test = test_data.copy()"
      ],
      "execution_count": null,
      "outputs": []
    },
    {
      "cell_type": "markdown",
      "metadata": {
        "id": "soZIPYmgzh4Q"
      },
      "source": [
        "##Scaling the data\n",
        "\n",
        "The main step before giving the data to the ANN we have to scale the data so that the model won't be unstable and there will be learning and no instable gradients and training also will be faster\n",
        "\n",
        "I have scaled the data using MinMaxScaler which is nothing but normalising the data where min value is 0 and max value is 1 by default and I have used max value to be 2 as my Hash encoded columns has max value to be 2 so I scaled other columns in this manner\n",
        "\n",
        "Reason for using MinMaxScaler is that Standard Scaler is generally used when we have data as Normal and here we have seen from the above plots that it is Non-Normal and generally in ANN we use MinMaxScaler when data is Non-Normal "
      ]
    },
    {
      "cell_type": "code",
      "metadata": {
        "id": "vwdJeXfuTy2N"
      },
      "source": [
        "##Scaling the Training Data\n",
        "import numpy as np\n",
        "from sklearn.preprocessing import MinMaxScaler\n",
        "\n",
        "f1 = MinMaxScaler(feature_range=(0,2))\n",
        "ann_train[\"Facebook\"] = f1.fit_transform(np.array(ann_train[\"Facebook\"]).reshape(-1,1))\n",
        "\n",
        "g1 = MinMaxScaler(feature_range=(0,2))\n",
        "ann_train[\"GooglePlus\"] = g1.fit_transform(np.array(ann_train[\"GooglePlus\"]).reshape(-1,1))\n",
        "\n",
        "l1 = MinMaxScaler(feature_range=(0,2))\n",
        "ann_train[\"LinkedIn\"] = l1.fit_transform(np.array(ann_train[\"LinkedIn\"]).reshape(-1,1))\n",
        "\n",
        "y1 = MinMaxScaler(feature_range=(0,2))\n",
        "ann_train[\"year\"] = y1.fit_transform(np.array(ann_train[\"year\"]).reshape(-1,1))"
      ],
      "execution_count": null,
      "outputs": []
    },
    {
      "cell_type": "code",
      "metadata": {
        "id": "B4IxMzVUXIva"
      },
      "source": [
        "##Scaling the Test Data using MinMaxScaler\n",
        "\n",
        "ann_test[\"Facebook\"] = f1.transform(np.array(ann_test[\"Facebook\"]).reshape(-1,1))\n",
        "ann_test[\"GooglePlus\"] = g1.transform(np.array(ann_test[\"GooglePlus\"]).reshape(-1,1))\n",
        "ann_test[\"LinkedIn\"] = l1.transform(np.array(ann_test[\"LinkedIn\"]).reshape(-1,1))\n",
        "ann_test[\"year\"] = y1.transform(np.array(ann_test[\"year\"]).reshape(-1,1))"
      ],
      "execution_count": null,
      "outputs": []
    },
    {
      "cell_type": "code",
      "metadata": {
        "colab": {
          "base_uri": "https://localhost:8080/",
          "height": 225
        },
        "id": "Yc1OMM63YF5p",
        "outputId": "3f017973-876c-4e40-f730-7ffc5e9c0413"
      },
      "source": [
        "##Train Data after normalisation\n",
        "ann_train.head()"
      ],
      "execution_count": null,
      "outputs": [
        {
          "output_type": "execute_result",
          "data": {
            "text/html": [
              "<div>\n",
              "<style scoped>\n",
              "    .dataframe tbody tr th:only-of-type {\n",
              "        vertical-align: middle;\n",
              "    }\n",
              "\n",
              "    .dataframe tbody tr th {\n",
              "        vertical-align: top;\n",
              "    }\n",
              "\n",
              "    .dataframe thead th {\n",
              "        text-align: right;\n",
              "    }\n",
              "</style>\n",
              "<table border=\"1\" class=\"dataframe\">\n",
              "  <thead>\n",
              "    <tr style=\"text-align: right;\">\n",
              "      <th></th>\n",
              "      <th>Facebook</th>\n",
              "      <th>GooglePlus</th>\n",
              "      <th>LinkedIn</th>\n",
              "      <th>Source_encode_fe</th>\n",
              "      <th>year</th>\n",
              "      <th>Topics_microsoft</th>\n",
              "      <th>Topics_obama</th>\n",
              "      <th>Topics_palestine</th>\n",
              "      <th>col_0</th>\n",
              "      <th>col_1</th>\n",
              "      <th>col_2</th>\n",
              "      <th>col_3</th>\n",
              "      <th>col_4</th>\n",
              "      <th>col_5</th>\n",
              "      <th>col_6</th>\n",
              "      <th>col_7</th>\n",
              "      <th>col_8</th>\n",
              "      <th>col_9</th>\n",
              "      <th>col_10</th>\n",
              "      <th>col_11</th>\n",
              "      <th>col_12</th>\n",
              "      <th>col_13</th>\n",
              "      <th>col_14</th>\n",
              "      <th>col_15</th>\n",
              "      <th>col_16</th>\n",
              "      <th>col_17</th>\n",
              "      <th>col_18</th>\n",
              "      <th>col_19</th>\n",
              "    </tr>\n",
              "  </thead>\n",
              "  <tbody>\n",
              "    <tr>\n",
              "      <th>0</th>\n",
              "      <td>0.0</td>\n",
              "      <td>0.0</td>\n",
              "      <td>0.0</td>\n",
              "      <td>0.005882</td>\n",
              "      <td>0.000000</td>\n",
              "      <td>0</td>\n",
              "      <td>1</td>\n",
              "      <td>0</td>\n",
              "      <td>0</td>\n",
              "      <td>0</td>\n",
              "      <td>0</td>\n",
              "      <td>0</td>\n",
              "      <td>0</td>\n",
              "      <td>0</td>\n",
              "      <td>1</td>\n",
              "      <td>0</td>\n",
              "      <td>0</td>\n",
              "      <td>0</td>\n",
              "      <td>0</td>\n",
              "      <td>0</td>\n",
              "      <td>0</td>\n",
              "      <td>0</td>\n",
              "      <td>0</td>\n",
              "      <td>1</td>\n",
              "      <td>0</td>\n",
              "      <td>0</td>\n",
              "      <td>0</td>\n",
              "      <td>0</td>\n",
              "    </tr>\n",
              "    <tr>\n",
              "      <th>1</th>\n",
              "      <td>0.0</td>\n",
              "      <td>0.0</td>\n",
              "      <td>0.0</td>\n",
              "      <td>0.020865</td>\n",
              "      <td>0.857143</td>\n",
              "      <td>0</td>\n",
              "      <td>0</td>\n",
              "      <td>0</td>\n",
              "      <td>0</td>\n",
              "      <td>0</td>\n",
              "      <td>0</td>\n",
              "      <td>0</td>\n",
              "      <td>1</td>\n",
              "      <td>0</td>\n",
              "      <td>0</td>\n",
              "      <td>0</td>\n",
              "      <td>0</td>\n",
              "      <td>0</td>\n",
              "      <td>0</td>\n",
              "      <td>1</td>\n",
              "      <td>0</td>\n",
              "      <td>0</td>\n",
              "      <td>0</td>\n",
              "      <td>0</td>\n",
              "      <td>0</td>\n",
              "      <td>0</td>\n",
              "      <td>0</td>\n",
              "      <td>0</td>\n",
              "    </tr>\n",
              "    <tr>\n",
              "      <th>2</th>\n",
              "      <td>0.0</td>\n",
              "      <td>0.0</td>\n",
              "      <td>0.0</td>\n",
              "      <td>0.020865</td>\n",
              "      <td>1.428571</td>\n",
              "      <td>0</td>\n",
              "      <td>0</td>\n",
              "      <td>0</td>\n",
              "      <td>1</td>\n",
              "      <td>0</td>\n",
              "      <td>0</td>\n",
              "      <td>0</td>\n",
              "      <td>0</td>\n",
              "      <td>0</td>\n",
              "      <td>0</td>\n",
              "      <td>0</td>\n",
              "      <td>0</td>\n",
              "      <td>1</td>\n",
              "      <td>0</td>\n",
              "      <td>0</td>\n",
              "      <td>0</td>\n",
              "      <td>0</td>\n",
              "      <td>0</td>\n",
              "      <td>0</td>\n",
              "      <td>0</td>\n",
              "      <td>0</td>\n",
              "      <td>0</td>\n",
              "      <td>0</td>\n",
              "    </tr>\n",
              "    <tr>\n",
              "      <th>3</th>\n",
              "      <td>0.0</td>\n",
              "      <td>0.0</td>\n",
              "      <td>0.0</td>\n",
              "      <td>0.000393</td>\n",
              "      <td>1.857143</td>\n",
              "      <td>0</td>\n",
              "      <td>0</td>\n",
              "      <td>0</td>\n",
              "      <td>0</td>\n",
              "      <td>0</td>\n",
              "      <td>0</td>\n",
              "      <td>0</td>\n",
              "      <td>0</td>\n",
              "      <td>0</td>\n",
              "      <td>0</td>\n",
              "      <td>0</td>\n",
              "      <td>0</td>\n",
              "      <td>0</td>\n",
              "      <td>0</td>\n",
              "      <td>0</td>\n",
              "      <td>0</td>\n",
              "      <td>0</td>\n",
              "      <td>0</td>\n",
              "      <td>0</td>\n",
              "      <td>0</td>\n",
              "      <td>0</td>\n",
              "      <td>1</td>\n",
              "      <td>1</td>\n",
              "    </tr>\n",
              "    <tr>\n",
              "      <th>4</th>\n",
              "      <td>0.0</td>\n",
              "      <td>0.0</td>\n",
              "      <td>0.0</td>\n",
              "      <td>0.000375</td>\n",
              "      <td>1.857143</td>\n",
              "      <td>0</td>\n",
              "      <td>0</td>\n",
              "      <td>0</td>\n",
              "      <td>0</td>\n",
              "      <td>0</td>\n",
              "      <td>0</td>\n",
              "      <td>0</td>\n",
              "      <td>0</td>\n",
              "      <td>0</td>\n",
              "      <td>0</td>\n",
              "      <td>1</td>\n",
              "      <td>0</td>\n",
              "      <td>0</td>\n",
              "      <td>1</td>\n",
              "      <td>0</td>\n",
              "      <td>0</td>\n",
              "      <td>0</td>\n",
              "      <td>0</td>\n",
              "      <td>0</td>\n",
              "      <td>0</td>\n",
              "      <td>0</td>\n",
              "      <td>0</td>\n",
              "      <td>0</td>\n",
              "    </tr>\n",
              "  </tbody>\n",
              "</table>\n",
              "</div>"
            ],
            "text/plain": [
              "   Facebook  GooglePlus  LinkedIn  ...  col_17  col_18  col_19\n",
              "0       0.0         0.0       0.0  ...       0       0       0\n",
              "1       0.0         0.0       0.0  ...       0       0       0\n",
              "2       0.0         0.0       0.0  ...       0       0       0\n",
              "3       0.0         0.0       0.0  ...       0       1       1\n",
              "4       0.0         0.0       0.0  ...       0       0       0\n",
              "\n",
              "[5 rows x 28 columns]"
            ]
          },
          "metadata": {
            "tags": []
          },
          "execution_count": 86
        }
      ]
    },
    {
      "cell_type": "code",
      "metadata": {
        "colab": {
          "base_uri": "https://localhost:8080/",
          "height": 225
        },
        "id": "h4ljgWpOaRrp",
        "outputId": "75a15b97-d2f5-4498-e6b9-55f52e68f524"
      },
      "source": [
        "##Test Data after normalisation\n",
        "ann_test.head()"
      ],
      "execution_count": null,
      "outputs": [
        {
          "output_type": "execute_result",
          "data": {
            "text/html": [
              "<div>\n",
              "<style scoped>\n",
              "    .dataframe tbody tr th:only-of-type {\n",
              "        vertical-align: middle;\n",
              "    }\n",
              "\n",
              "    .dataframe tbody tr th {\n",
              "        vertical-align: top;\n",
              "    }\n",
              "\n",
              "    .dataframe thead th {\n",
              "        text-align: right;\n",
              "    }\n",
              "</style>\n",
              "<table border=\"1\" class=\"dataframe\">\n",
              "  <thead>\n",
              "    <tr style=\"text-align: right;\">\n",
              "      <th></th>\n",
              "      <th>Facebook</th>\n",
              "      <th>GooglePlus</th>\n",
              "      <th>LinkedIn</th>\n",
              "      <th>Source_encode_fe</th>\n",
              "      <th>year</th>\n",
              "      <th>Topics_microsoft</th>\n",
              "      <th>Topics_obama</th>\n",
              "      <th>Topics_palestine</th>\n",
              "      <th>col_0</th>\n",
              "      <th>col_1</th>\n",
              "      <th>col_2</th>\n",
              "      <th>col_3</th>\n",
              "      <th>col_4</th>\n",
              "      <th>col_5</th>\n",
              "      <th>col_6</th>\n",
              "      <th>col_7</th>\n",
              "      <th>col_8</th>\n",
              "      <th>col_9</th>\n",
              "      <th>col_10</th>\n",
              "      <th>col_11</th>\n",
              "      <th>col_12</th>\n",
              "      <th>col_13</th>\n",
              "      <th>col_14</th>\n",
              "      <th>col_15</th>\n",
              "      <th>col_16</th>\n",
              "      <th>col_17</th>\n",
              "      <th>col_18</th>\n",
              "      <th>col_19</th>\n",
              "    </tr>\n",
              "  </thead>\n",
              "  <tbody>\n",
              "    <tr>\n",
              "      <th>0</th>\n",
              "      <td>0.000041</td>\n",
              "      <td>0.001577</td>\n",
              "      <td>0.001076</td>\n",
              "      <td>0.000429</td>\n",
              "      <td>2.0</td>\n",
              "      <td>0</td>\n",
              "      <td>0</td>\n",
              "      <td>0</td>\n",
              "      <td>0</td>\n",
              "      <td>1</td>\n",
              "      <td>0</td>\n",
              "      <td>0</td>\n",
              "      <td>0</td>\n",
              "      <td>0</td>\n",
              "      <td>0</td>\n",
              "      <td>0</td>\n",
              "      <td>0</td>\n",
              "      <td>0</td>\n",
              "      <td>0</td>\n",
              "      <td>0</td>\n",
              "      <td>0</td>\n",
              "      <td>1</td>\n",
              "      <td>0</td>\n",
              "      <td>0</td>\n",
              "      <td>0</td>\n",
              "      <td>0</td>\n",
              "      <td>0</td>\n",
              "      <td>0</td>\n",
              "    </tr>\n",
              "    <tr>\n",
              "      <th>1</th>\n",
              "      <td>0.004958</td>\n",
              "      <td>0.004732</td>\n",
              "      <td>0.007533</td>\n",
              "      <td>0.006570</td>\n",
              "      <td>2.0</td>\n",
              "      <td>1</td>\n",
              "      <td>0</td>\n",
              "      <td>0</td>\n",
              "      <td>0</td>\n",
              "      <td>0</td>\n",
              "      <td>0</td>\n",
              "      <td>0</td>\n",
              "      <td>0</td>\n",
              "      <td>1</td>\n",
              "      <td>0</td>\n",
              "      <td>0</td>\n",
              "      <td>0</td>\n",
              "      <td>0</td>\n",
              "      <td>0</td>\n",
              "      <td>0</td>\n",
              "      <td>0</td>\n",
              "      <td>0</td>\n",
              "      <td>0</td>\n",
              "      <td>0</td>\n",
              "      <td>1</td>\n",
              "      <td>0</td>\n",
              "      <td>0</td>\n",
              "      <td>0</td>\n",
              "    </tr>\n",
              "    <tr>\n",
              "      <th>2</th>\n",
              "      <td>0.000528</td>\n",
              "      <td>0.003155</td>\n",
              "      <td>0.000538</td>\n",
              "      <td>0.000080</td>\n",
              "      <td>2.0</td>\n",
              "      <td>1</td>\n",
              "      <td>0</td>\n",
              "      <td>0</td>\n",
              "      <td>0</td>\n",
              "      <td>0</td>\n",
              "      <td>0</td>\n",
              "      <td>0</td>\n",
              "      <td>0</td>\n",
              "      <td>0</td>\n",
              "      <td>0</td>\n",
              "      <td>0</td>\n",
              "      <td>0</td>\n",
              "      <td>0</td>\n",
              "      <td>0</td>\n",
              "      <td>0</td>\n",
              "      <td>0</td>\n",
              "      <td>0</td>\n",
              "      <td>0</td>\n",
              "      <td>0</td>\n",
              "      <td>2</td>\n",
              "      <td>0</td>\n",
              "      <td>0</td>\n",
              "      <td>0</td>\n",
              "    </tr>\n",
              "    <tr>\n",
              "      <th>3</th>\n",
              "      <td>0.000041</td>\n",
              "      <td>0.001577</td>\n",
              "      <td>0.002152</td>\n",
              "      <td>0.002414</td>\n",
              "      <td>2.0</td>\n",
              "      <td>0</td>\n",
              "      <td>0</td>\n",
              "      <td>0</td>\n",
              "      <td>0</td>\n",
              "      <td>0</td>\n",
              "      <td>0</td>\n",
              "      <td>0</td>\n",
              "      <td>0</td>\n",
              "      <td>0</td>\n",
              "      <td>0</td>\n",
              "      <td>0</td>\n",
              "      <td>0</td>\n",
              "      <td>0</td>\n",
              "      <td>0</td>\n",
              "      <td>0</td>\n",
              "      <td>0</td>\n",
              "      <td>1</td>\n",
              "      <td>0</td>\n",
              "      <td>0</td>\n",
              "      <td>0</td>\n",
              "      <td>0</td>\n",
              "      <td>0</td>\n",
              "      <td>1</td>\n",
              "    </tr>\n",
              "    <tr>\n",
              "      <th>4</th>\n",
              "      <td>0.000163</td>\n",
              "      <td>0.001577</td>\n",
              "      <td>0.000538</td>\n",
              "      <td>0.001234</td>\n",
              "      <td>2.0</td>\n",
              "      <td>0</td>\n",
              "      <td>0</td>\n",
              "      <td>0</td>\n",
              "      <td>0</td>\n",
              "      <td>0</td>\n",
              "      <td>1</td>\n",
              "      <td>0</td>\n",
              "      <td>0</td>\n",
              "      <td>0</td>\n",
              "      <td>0</td>\n",
              "      <td>1</td>\n",
              "      <td>0</td>\n",
              "      <td>0</td>\n",
              "      <td>0</td>\n",
              "      <td>0</td>\n",
              "      <td>0</td>\n",
              "      <td>0</td>\n",
              "      <td>0</td>\n",
              "      <td>0</td>\n",
              "      <td>0</td>\n",
              "      <td>0</td>\n",
              "      <td>0</td>\n",
              "      <td>0</td>\n",
              "    </tr>\n",
              "  </tbody>\n",
              "</table>\n",
              "</div>"
            ],
            "text/plain": [
              "   Facebook  GooglePlus  LinkedIn  ...  col_17  col_18  col_19\n",
              "0  0.000041    0.001577  0.001076  ...       0       0       0\n",
              "1  0.004958    0.004732  0.007533  ...       0       0       0\n",
              "2  0.000528    0.003155  0.000538  ...       0       0       0\n",
              "3  0.000041    0.001577  0.002152  ...       0       0       1\n",
              "4  0.000163    0.001577  0.000538  ...       0       0       0\n",
              "\n",
              "[5 rows x 28 columns]"
            ]
          },
          "metadata": {
            "tags": []
          },
          "execution_count": 87
        }
      ]
    },
    {
      "cell_type": "markdown",
      "metadata": {
        "id": "RPs2zK5e0aY1"
      },
      "source": [
        "##ANN Model\n",
        "\n",
        "This consists of 3 layers\n",
        "\n",
        "Layer 1 has 10 neurons \n",
        "\n",
        "Layer 2 has 20 neurons\n",
        "\n",
        "Layer 3 has 30 neurons\n",
        "\n",
        "The kernel initialization I have used is the He_initialiser and activation is Relu and generally this initialiser works well with Relu so I have used this for achieving better score \n",
        "\n",
        "Relu is Non linear activation function and it is fast and used in many of the Neural Networks. So I have used this function\n",
        "\n",
        "Optimizer used is Adam and Loss is MSE\n",
        "\n",
        "Adam is very powerful method and it has faster convergence compared to other optimization algorithms and it is combination of AdaGrad and RMSProp"
      ]
    },
    {
      "cell_type": "markdown",
      "metadata": {
        "id": "2rNqClfRu-Pc"
      },
      "source": [
        "I have defined a function here as both models have same architecture and by calling this functon by sending their respective objects as parameters I am buliding the neural network"
      ]
    },
    {
      "cell_type": "code",
      "metadata": {
        "id": "VrmhyTDqaUmb"
      },
      "source": [
        "##ANN Model\n",
        "def model(regressor,dim):\n",
        "  regressor.add(Dense(10,kernel_initializer='he_uniform',activation=\"relu\",input_dim = dim))\n",
        "  regressor.add(Dense(20,kernel_initializer='he_uniform',activation=\"relu\"))\n",
        "  regressor.add(Dense(30,kernel_initializer='he_uniform',activation=\"relu\"))\n",
        "  regressor.add(Dense(1))\n",
        "\n",
        "  regressor.compile(optimizer=\"adam\",loss=\"mse\")\n",
        "  return regressor"
      ],
      "execution_count": null,
      "outputs": []
    },
    {
      "cell_type": "code",
      "metadata": {
        "colab": {
          "base_uri": "https://localhost:8080/"
        },
        "id": "7WCAS6p_avyN",
        "outputId": "1d4bd442-c74c-4a36-d09d-be0db0a26781"
      },
      "source": [
        "##Creating the 1st Sequential model\n",
        "regressor = Sequential()\n",
        "regressor = model(regressor,ann_train.shape[1])         #Here I am not sending Sentiment Title column so dimensions is 28 same as the originals\n",
        "regressor.summary()"
      ],
      "execution_count": null,
      "outputs": [
        {
          "output_type": "stream",
          "text": [
            "Model: \"sequential\"\n",
            "_________________________________________________________________\n",
            "Layer (type)                 Output Shape              Param #   \n",
            "=================================================================\n",
            "dense (Dense)                (None, 10)                290       \n",
            "_________________________________________________________________\n",
            "dense_1 (Dense)              (None, 20)                220       \n",
            "_________________________________________________________________\n",
            "dense_2 (Dense)              (None, 30)                630       \n",
            "_________________________________________________________________\n",
            "dense_3 (Dense)              (None, 1)                 31        \n",
            "=================================================================\n",
            "Total params: 1,171\n",
            "Trainable params: 1,171\n",
            "Non-trainable params: 0\n",
            "_________________________________________________________________\n"
          ],
          "name": "stdout"
        }
      ]
    },
    {
      "cell_type": "markdown",
      "metadata": {
        "id": "SZh_Sk5a1NKb"
      },
      "source": [
        "Epochs used is 20 and I have tried for other values such as 10 and 30 when I used 10 it is underfitting and for 30 it is overfitting so for 20 these both cases are avoided and validation split as 0.2"
      ]
    },
    {
      "cell_type": "code",
      "metadata": {
        "id": "qMdEpoZMaxQx"
      },
      "source": [
        "#Fit the data\n",
        "model_history = regressor.fit(ann_train,y[\"SentimentTitle\"],epochs=20,validation_split=0.2)"
      ],
      "execution_count": null,
      "outputs": []
    },
    {
      "cell_type": "code",
      "metadata": {
        "id": "J4aBs2JocpQ5"
      },
      "source": [
        "##Prediction for the Sentiment Title Data\n",
        "title_pred = regressor.predict(ann_test)"
      ],
      "execution_count": null,
      "outputs": []
    },
    {
      "cell_type": "code",
      "metadata": {
        "colab": {
          "base_uri": "https://localhost:8080/"
        },
        "id": "-BMmXOVVIZX0",
        "outputId": "d1d5a87e-8731-42b1-f90a-c1440eae6ca7"
      },
      "source": [
        "title_pred[0:5]"
      ],
      "execution_count": null,
      "outputs": [
        {
          "output_type": "execute_result",
          "data": {
            "text/plain": [
              "array([[-0.01537554],\n",
              "       [-0.00896826],\n",
              "       [-0.00975219],\n",
              "       [-0.01307545],\n",
              "       [-0.01085053]], dtype=float32)"
            ]
          },
          "metadata": {
            "tags": []
          },
          "execution_count": 92
        }
      ]
    },
    {
      "cell_type": "code",
      "metadata": {
        "colab": {
          "base_uri": "https://localhost:8080/"
        },
        "id": "oxitGYuive5-",
        "outputId": "5757d7e5-afc4-4a51-eec7-ca4605b601d3"
      },
      "source": [
        "##Creating the 2nd Sequential Model\n",
        "regressor1 = Sequential()\n",
        "regressor1 = model(regressor1,ann_train.shape[1])   #Here I am sending the Sentiment Title feature so the dimension is 29\n",
        "regressor1.summary()"
      ],
      "execution_count": null,
      "outputs": [
        {
          "output_type": "stream",
          "text": [
            "Model: \"sequential_1\"\n",
            "_________________________________________________________________\n",
            "Layer (type)                 Output Shape              Param #   \n",
            "=================================================================\n",
            "dense_4 (Dense)              (None, 10)                300       \n",
            "_________________________________________________________________\n",
            "dense_5 (Dense)              (None, 20)                220       \n",
            "_________________________________________________________________\n",
            "dense_6 (Dense)              (None, 30)                630       \n",
            "_________________________________________________________________\n",
            "dense_7 (Dense)              (None, 1)                 31        \n",
            "=================================================================\n",
            "Total params: 1,181\n",
            "Trainable params: 1,181\n",
            "Non-trainable params: 0\n",
            "_________________________________________________________________\n"
          ],
          "name": "stdout"
        }
      ]
    },
    {
      "cell_type": "code",
      "metadata": {
        "id": "jb7su-VPFAPV"
      },
      "source": [
        "#Here I am adding the Sentiment Title Column for 2nd Model\n",
        "ann_train_add = ann_train.copy()\n",
        "ann_train_add[\"SentimentTitle\"] = y[\"SentimentTitle\"]"
      ],
      "execution_count": null,
      "outputs": []
    },
    {
      "cell_type": "code",
      "metadata": {
        "id": "LtLjJLoLcV2L"
      },
      "source": [
        "##Fit the data\n",
        "model_history1 = regressor1.fit(ann_train_add,y[\"SentimentHeadline\"],epochs=20,validation_split=0.2)"
      ],
      "execution_count": null,
      "outputs": []
    },
    {
      "cell_type": "code",
      "metadata": {
        "id": "Wr7DMsi1G1pf"
      },
      "source": [
        "ann_test_add = ann_test.copy()\n",
        "ann_test_add[\"SentimentTitle\"] = title_pred"
      ],
      "execution_count": null,
      "outputs": []
    },
    {
      "cell_type": "code",
      "metadata": {
        "id": "tqa9s6wAc2ZO"
      },
      "source": [
        "#Sentiment Headline Prediction \n",
        "headline_pred = regressor1.predict(ann_test_add)"
      ],
      "execution_count": null,
      "outputs": []
    },
    {
      "cell_type": "markdown",
      "metadata": {
        "id": "MB2j1ss03OA1"
      },
      "source": [
        "Displaying the prediction for first 5 records"
      ]
    },
    {
      "cell_type": "code",
      "metadata": {
        "colab": {
          "base_uri": "https://localhost:8080/"
        },
        "id": "JBsHDQA5eolP",
        "outputId": "450ed7ba-0323-4c1d-ef6a-9eb186814289"
      },
      "source": [
        "title_pred[0:5]"
      ],
      "execution_count": null,
      "outputs": [
        {
          "output_type": "execute_result",
          "data": {
            "text/plain": [
              "array([[-0.01537554],\n",
              "       [-0.00896826],\n",
              "       [-0.00975219],\n",
              "       [-0.01307545],\n",
              "       [-0.01085053]], dtype=float32)"
            ]
          },
          "metadata": {
            "tags": []
          },
          "execution_count": 99
        }
      ]
    },
    {
      "cell_type": "code",
      "metadata": {
        "colab": {
          "base_uri": "https://localhost:8080/"
        },
        "id": "-55coyBId4Te",
        "outputId": "9d8c9735-3ee7-4422-e5fb-f7a394830ab1"
      },
      "source": [
        "headline_pred[0:5]"
      ],
      "execution_count": null,
      "outputs": [
        {
          "output_type": "execute_result",
          "data": {
            "text/plain": [
              "array([[-0.03857305],\n",
              "       [-0.00567315],\n",
              "       [-0.01317393],\n",
              "       [-0.03243665],\n",
              "       [-0.03824392]], dtype=float32)"
            ]
          },
          "metadata": {
            "tags": []
          },
          "execution_count": 100
        }
      ]
    },
    {
      "cell_type": "code",
      "metadata": {
        "id": "kAEUnpa5LWlQ"
      },
      "source": [
        "##Prediction using ANN\n",
        "submit= pd.DataFrame(columns=[\"IDLink\",\"SentimentTitle\",\"SentimentHeadline\"])\n",
        "submit[\"IDLink\"] = IDLink\n",
        "submit[\"SentimentTitle\"] = title_pred\n",
        "submit[\"SentimentHeadline\"] = headline_pred\n",
        "submit.to_csv(\"sample_submission_ann.csv\",index=False)"
      ],
      "execution_count": null,
      "outputs": []
    },
    {
      "cell_type": "markdown",
      "metadata": {
        "id": "I6oZZ2JjwP0F"
      },
      "source": [
        "##Conclusion \n",
        "\n",
        "I was able to improve score using the Artificial Neural Networks compared to Catboost Regressor as the data is also more I chose to use ANN and this gave me better score and Catboost is also fast and gave a good score but little less than ANN and while solving this data this is very much of learning for me as I have learned many new things in all the stages of Data Science Project Life Cycle "
      ]
    },
    {
      "cell_type": "code",
      "metadata": {
        "id": "-YlgpdhyML5P"
      },
      "source": [
        ""
      ],
      "execution_count": null,
      "outputs": []
    }
  ]
}